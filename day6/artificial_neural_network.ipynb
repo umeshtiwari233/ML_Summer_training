{
  "nbformat": 4,
  "nbformat_minor": 0,
  "metadata": {
    "colab": {
      "name": "artificial_neural_network.ipynb",
      "provenance": [],
      "collapsed_sections": [],
      "include_colab_link": true
    },
    "kernelspec": {
      "name": "python3",
      "display_name": "Python 3"
    }
  },
  "cells": [
    {
      "cell_type": "markdown",
      "metadata": {
        "id": "view-in-github",
        "colab_type": "text"
      },
      "source": [
        "<a href=\"https://colab.research.google.com/github/umeshtiwari233/ML_Summer_training/blob/main/day6/artificial_neural_network.ipynb\" target=\"_parent\"><img src=\"https://colab.research.google.com/assets/colab-badge.svg\" alt=\"Open In Colab\"/></a>"
      ]
    },
    {
      "cell_type": "markdown",
      "metadata": {
        "id": "lP6JLo1tGNBg"
      },
      "source": [
        "# Artificial Neural Network"
      ]
    },
    {
      "cell_type": "markdown",
      "metadata": {
        "id": "gWZyYmS_UE_L"
      },
      "source": [
        "### Importing the libraries"
      ]
    },
    {
      "cell_type": "code",
      "metadata": {
        "id": "MxkJoQBkUIHC"
      },
      "source": [
        "import numpy as np\n",
        "import pandas as pd\n",
        "import tensorflow as tf"
      ],
      "execution_count": null,
      "outputs": []
    },
    {
      "cell_type": "code",
      "metadata": {
        "id": "ZaTwK7ojXr2F",
        "outputId": "05f2a224-24e8-4fcc-9d58-f6536e5dee02",
        "colab": {
          "base_uri": "https://localhost:8080/",
          "height": 35
        }
      },
      "source": [
        "tf.__version__"
      ],
      "execution_count": null,
      "outputs": [
        {
          "output_type": "execute_result",
          "data": {
            "text/plain": [
              "'2.8.2'"
            ],
            "application/vnd.google.colaboratory.intrinsic+json": {
              "type": "string"
            }
          },
          "metadata": {},
          "execution_count": 2
        }
      ]
    },
    {
      "cell_type": "markdown",
      "metadata": {
        "id": "1E0Q3aoKUCRX"
      },
      "source": [
        "## Part 1 - Data Preprocessing"
      ]
    },
    {
      "cell_type": "markdown",
      "metadata": {
        "id": "cKWAkFVGUU0Z"
      },
      "source": [
        "### Importing the dataset"
      ]
    },
    {
      "cell_type": "code",
      "metadata": {
        "id": "MXUkhkMfU4wq"
      },
      "source": [
        "dataset = pd.read_csv('/content/sample_data/Churn_Modelling.csv')\n",
        "X = dataset.iloc[:, 3:-1].values\n",
        "y = dataset.iloc[:, -1].values"
      ],
      "execution_count": null,
      "outputs": []
    },
    {
      "cell_type": "code",
      "metadata": {
        "id": "VYP9cQTWbzuI",
        "outputId": "e8c6f572-a614-4025-bd8a-3df409897051",
        "colab": {
          "base_uri": "https://localhost:8080/"
        }
      },
      "source": [
        "print(X)"
      ],
      "execution_count": null,
      "outputs": [
        {
          "output_type": "stream",
          "name": "stdout",
          "text": [
            "[[619 'France' 'Female' ... 1 1 101348.88]\n",
            " [608 'Spain' 'Female' ... 0 1 112542.58]\n",
            " [502 'France' 'Female' ... 1 0 113931.57]\n",
            " ...\n",
            " [709 'France' 'Female' ... 0 1 42085.58]\n",
            " [772 'Germany' 'Male' ... 1 0 92888.52]\n",
            " [792 'France' 'Female' ... 1 0 38190.78]]\n"
          ]
        }
      ]
    },
    {
      "cell_type": "code",
      "metadata": {
        "id": "38vKGE6Nb2RR",
        "outputId": "0d15db6b-da7a-446d-98d5-b8943e90fac1",
        "colab": {
          "base_uri": "https://localhost:8080/"
        }
      },
      "source": [
        "print(y)"
      ],
      "execution_count": null,
      "outputs": [
        {
          "output_type": "stream",
          "name": "stdout",
          "text": [
            "[1 0 1 ... 1 1 0]\n"
          ]
        }
      ]
    },
    {
      "cell_type": "markdown",
      "metadata": {
        "id": "N6bQ0UgSU-NJ"
      },
      "source": [
        "### Encoding categorical data"
      ]
    },
    {
      "cell_type": "markdown",
      "metadata": {
        "id": "le5MJreAbW52"
      },
      "source": [
        "Label Encoding the \"Gender\" column"
      ]
    },
    {
      "cell_type": "code",
      "metadata": {
        "id": "PxVKWXxLbczC"
      },
      "source": [
        "from sklearn.preprocessing import LabelEncoder\n",
        "le = LabelEncoder()\n",
        "X[:, 2] = le.fit_transform(X[:, 2])"
      ],
      "execution_count": null,
      "outputs": []
    },
    {
      "cell_type": "code",
      "metadata": {
        "id": "-M1KboxFb6OO",
        "outputId": "ac6cc76a-0486-4f3b-93f5-457dbb5d63fe",
        "colab": {
          "base_uri": "https://localhost:8080/"
        }
      },
      "source": [
        "print(X)"
      ],
      "execution_count": null,
      "outputs": [
        {
          "output_type": "stream",
          "name": "stdout",
          "text": [
            "[[619 'France' 0 ... 1 1 101348.88]\n",
            " [608 'Spain' 0 ... 0 1 112542.58]\n",
            " [502 'France' 0 ... 1 0 113931.57]\n",
            " ...\n",
            " [709 'France' 0 ... 0 1 42085.58]\n",
            " [772 'Germany' 1 ... 1 0 92888.52]\n",
            " [792 'France' 0 ... 1 0 38190.78]]\n"
          ]
        }
      ]
    },
    {
      "cell_type": "markdown",
      "metadata": {
        "id": "CUxGZezpbMcb"
      },
      "source": [
        "One Hot Encoding the \"Geography\" column"
      ]
    },
    {
      "cell_type": "code",
      "metadata": {
        "id": "AMXC8-KMVirw"
      },
      "source": [
        "from sklearn.compose import ColumnTransformer\n",
        "from sklearn.preprocessing import OneHotEncoder\n",
        "ct = ColumnTransformer(transformers=[('encoder', OneHotEncoder(), [1])], remainder='passthrough')\n",
        "X = np.array(ct.fit_transform(X))"
      ],
      "execution_count": null,
      "outputs": []
    },
    {
      "cell_type": "code",
      "metadata": {
        "id": "ZcxwEon-b8nV",
        "outputId": "876000d5-f502-4ae7-b00e-d6e844de12d3",
        "colab": {
          "base_uri": "https://localhost:8080/"
        }
      },
      "source": [
        "print(X)"
      ],
      "execution_count": null,
      "outputs": [
        {
          "output_type": "stream",
          "name": "stdout",
          "text": [
            "[[1.0 0.0 0.0 ... 1 1 101348.88]\n",
            " [0.0 0.0 1.0 ... 0 1 112542.58]\n",
            " [1.0 0.0 0.0 ... 1 0 113931.57]\n",
            " ...\n",
            " [1.0 0.0 0.0 ... 0 1 42085.58]\n",
            " [0.0 1.0 0.0 ... 1 0 92888.52]\n",
            " [1.0 0.0 0.0 ... 1 0 38190.78]]\n"
          ]
        }
      ]
    },
    {
      "cell_type": "markdown",
      "metadata": {
        "id": "vHol938cW8zd"
      },
      "source": [
        "### Splitting the dataset into the Training set and Test set"
      ]
    },
    {
      "cell_type": "code",
      "metadata": {
        "id": "Z-TDt0Y_XEfc"
      },
      "source": [
        "from sklearn.model_selection import train_test_split\n",
        "X_train, X_test, y_train, y_test = train_test_split(X, y, test_size = 0.2, random_state = 0)"
      ],
      "execution_count": null,
      "outputs": []
    },
    {
      "cell_type": "markdown",
      "metadata": {
        "id": "RE_FcHyfV3TQ"
      },
      "source": [
        "### Feature Scaling"
      ]
    },
    {
      "cell_type": "code",
      "metadata": {
        "id": "ViCrE00rV8Sk"
      },
      "source": [
        "from sklearn.preprocessing import StandardScaler\n",
        "sc = StandardScaler()\n",
        "X_train = sc.fit_transform(X_train)\n",
        "X_test = sc.transform(X_test)"
      ],
      "execution_count": null,
      "outputs": []
    },
    {
      "cell_type": "markdown",
      "metadata": {
        "id": "-zfEzkRVXIwF"
      },
      "source": [
        "## Part 2 - Building the ANN"
      ]
    },
    {
      "cell_type": "markdown",
      "metadata": {
        "id": "KvdeScabXtlB"
      },
      "source": [
        "### Initializing the ANN"
      ]
    },
    {
      "cell_type": "code",
      "metadata": {
        "id": "3dtrScHxXQox"
      },
      "source": [
        "ann = tf.keras.models.Sequential()"
      ],
      "execution_count": null,
      "outputs": []
    },
    {
      "cell_type": "markdown",
      "metadata": {
        "id": "rP6urV6SX7kS"
      },
      "source": [
        "### Adding the input layer and the first hidden layer"
      ]
    },
    {
      "cell_type": "code",
      "metadata": {
        "id": "bppGycBXYCQr"
      },
      "source": [
        "ann.add(tf.keras.layers.Dense(units=6, activation='relu'))"
      ],
      "execution_count": null,
      "outputs": []
    },
    {
      "cell_type": "markdown",
      "metadata": {
        "id": "BELWAc_8YJze"
      },
      "source": [
        "### Adding the second hidden layer"
      ]
    },
    {
      "cell_type": "code",
      "metadata": {
        "id": "JneR0u0sYRTd"
      },
      "source": [
        "ann.add(tf.keras.layers.Dense(units=6, activation='relu'))"
      ],
      "execution_count": null,
      "outputs": []
    },
    {
      "cell_type": "markdown",
      "metadata": {
        "id": "OyNEe6RXYcU4"
      },
      "source": [
        "### Adding the output layer"
      ]
    },
    {
      "cell_type": "code",
      "metadata": {
        "id": "Cn3x41RBYfvY"
      },
      "source": [
        "ann.add(tf.keras.layers.Dense(units=1, activation='sigmoid'))"
      ],
      "execution_count": null,
      "outputs": []
    },
    {
      "cell_type": "markdown",
      "metadata": {
        "id": "JT4u2S1_Y4WG"
      },
      "source": [
        "## Part 3 - Training the ANN"
      ]
    },
    {
      "cell_type": "markdown",
      "metadata": {
        "id": "8GWlJChhY_ZI"
      },
      "source": [
        "### Compiling the ANN"
      ]
    },
    {
      "cell_type": "code",
      "metadata": {
        "id": "fG3RrwDXZEaS"
      },
      "source": [
        "ann.compile(optimizer = 'adam', loss = 'binary_crossentropy', metrics = ['accuracy'])"
      ],
      "execution_count": null,
      "outputs": []
    },
    {
      "cell_type": "markdown",
      "metadata": {
        "id": "0QR_G5u7ZLSM"
      },
      "source": [
        "### Training the ANN on the Training set"
      ]
    },
    {
      "cell_type": "code",
      "metadata": {
        "id": "nHZ-LKv_ZRb3",
        "outputId": "0fb408b4-7883-47d9-b6f4-60770a5ad5e8",
        "colab": {
          "base_uri": "https://localhost:8080/"
        }
      },
      "source": [
        "ann.fit(X_train, y_train, batch_size = 8, epochs = 200)"
      ],
      "execution_count": null,
      "outputs": [
        {
          "output_type": "stream",
          "name": "stdout",
          "text": [
            "Epoch 1/200\n",
            "1000/1000 [==============================] - 2s 2ms/step - loss: 0.4993 - accuracy: 0.7886\n",
            "Epoch 2/200\n",
            "1000/1000 [==============================] - 2s 2ms/step - loss: 0.4412 - accuracy: 0.7960\n",
            "Epoch 3/200\n",
            "1000/1000 [==============================] - 3s 3ms/step - loss: 0.4296 - accuracy: 0.7960\n",
            "Epoch 4/200\n",
            "1000/1000 [==============================] - 3s 3ms/step - loss: 0.4103 - accuracy: 0.8076\n",
            "Epoch 5/200\n",
            "1000/1000 [==============================] - 3s 3ms/step - loss: 0.3840 - accuracy: 0.8405\n",
            "Epoch 6/200\n",
            "1000/1000 [==============================] - 3s 3ms/step - loss: 0.3692 - accuracy: 0.8504\n",
            "Epoch 7/200\n",
            "1000/1000 [==============================] - 3s 3ms/step - loss: 0.3607 - accuracy: 0.8533\n",
            "Epoch 8/200\n",
            "1000/1000 [==============================] - 3s 3ms/step - loss: 0.3553 - accuracy: 0.8533\n",
            "Epoch 9/200\n",
            "1000/1000 [==============================] - 3s 3ms/step - loss: 0.3522 - accuracy: 0.8559\n",
            "Epoch 10/200\n",
            "1000/1000 [==============================] - 3s 3ms/step - loss: 0.3508 - accuracy: 0.8581\n",
            "Epoch 11/200\n",
            "1000/1000 [==============================] - 3s 3ms/step - loss: 0.3483 - accuracy: 0.8568\n",
            "Epoch 12/200\n",
            "1000/1000 [==============================] - 1s 1ms/step - loss: 0.3474 - accuracy: 0.8587\n",
            "Epoch 13/200\n",
            "1000/1000 [==============================] - 1s 1ms/step - loss: 0.3458 - accuracy: 0.8602\n",
            "Epoch 14/200\n",
            "1000/1000 [==============================] - 2s 2ms/step - loss: 0.3447 - accuracy: 0.8596\n",
            "Epoch 15/200\n",
            "1000/1000 [==============================] - 1s 1ms/step - loss: 0.3437 - accuracy: 0.8597\n",
            "Epoch 16/200\n",
            "1000/1000 [==============================] - 1s 1ms/step - loss: 0.3432 - accuracy: 0.8597\n",
            "Epoch 17/200\n",
            "1000/1000 [==============================] - 1s 1ms/step - loss: 0.3425 - accuracy: 0.8612\n",
            "Epoch 18/200\n",
            "1000/1000 [==============================] - 1s 1ms/step - loss: 0.3420 - accuracy: 0.8600\n",
            "Epoch 19/200\n",
            "1000/1000 [==============================] - 1s 1ms/step - loss: 0.3411 - accuracy: 0.8615\n",
            "Epoch 20/200\n",
            "1000/1000 [==============================] - 1s 1ms/step - loss: 0.3407 - accuracy: 0.8601\n",
            "Epoch 21/200\n",
            "1000/1000 [==============================] - 1s 1ms/step - loss: 0.3415 - accuracy: 0.8618\n",
            "Epoch 22/200\n",
            "1000/1000 [==============================] - 1s 1ms/step - loss: 0.3409 - accuracy: 0.8614\n",
            "Epoch 23/200\n",
            "1000/1000 [==============================] - 1s 1ms/step - loss: 0.3408 - accuracy: 0.8618\n",
            "Epoch 24/200\n",
            "1000/1000 [==============================] - 1s 1ms/step - loss: 0.3402 - accuracy: 0.8621\n",
            "Epoch 25/200\n",
            "1000/1000 [==============================] - 1s 1ms/step - loss: 0.3397 - accuracy: 0.8616\n",
            "Epoch 26/200\n",
            "1000/1000 [==============================] - 1s 1ms/step - loss: 0.3388 - accuracy: 0.8625\n",
            "Epoch 27/200\n",
            "1000/1000 [==============================] - 1s 1ms/step - loss: 0.3398 - accuracy: 0.8609\n",
            "Epoch 28/200\n",
            "1000/1000 [==============================] - 1s 1ms/step - loss: 0.3393 - accuracy: 0.8627\n",
            "Epoch 29/200\n",
            "1000/1000 [==============================] - 1s 1ms/step - loss: 0.3388 - accuracy: 0.8627\n",
            "Epoch 30/200\n",
            "1000/1000 [==============================] - 1s 1ms/step - loss: 0.3386 - accuracy: 0.8631\n",
            "Epoch 31/200\n",
            "1000/1000 [==============================] - 2s 2ms/step - loss: 0.3378 - accuracy: 0.8625\n",
            "Epoch 32/200\n",
            "1000/1000 [==============================] - 2s 2ms/step - loss: 0.3379 - accuracy: 0.8616\n",
            "Epoch 33/200\n",
            "1000/1000 [==============================] - 1s 1ms/step - loss: 0.3372 - accuracy: 0.8629\n",
            "Epoch 34/200\n",
            "1000/1000 [==============================] - 2s 2ms/step - loss: 0.3370 - accuracy: 0.8636\n",
            "Epoch 35/200\n",
            "1000/1000 [==============================] - 2s 2ms/step - loss: 0.3361 - accuracy: 0.8631\n",
            "Epoch 36/200\n",
            "1000/1000 [==============================] - 2s 2ms/step - loss: 0.3367 - accuracy: 0.8636\n",
            "Epoch 37/200\n",
            "1000/1000 [==============================] - 2s 2ms/step - loss: 0.3355 - accuracy: 0.8627\n",
            "Epoch 38/200\n",
            "1000/1000 [==============================] - 2s 2ms/step - loss: 0.3355 - accuracy: 0.8626\n",
            "Epoch 39/200\n",
            "1000/1000 [==============================] - 2s 2ms/step - loss: 0.3350 - accuracy: 0.8639\n",
            "Epoch 40/200\n",
            "1000/1000 [==============================] - 2s 2ms/step - loss: 0.3341 - accuracy: 0.8652\n",
            "Epoch 41/200\n",
            "1000/1000 [==============================] - 2s 2ms/step - loss: 0.3346 - accuracy: 0.8636\n",
            "Epoch 42/200\n",
            "1000/1000 [==============================] - 2s 2ms/step - loss: 0.3339 - accuracy: 0.8637\n",
            "Epoch 43/200\n",
            "1000/1000 [==============================] - 2s 2ms/step - loss: 0.3338 - accuracy: 0.8630\n",
            "Epoch 44/200\n",
            "1000/1000 [==============================] - 2s 2ms/step - loss: 0.3330 - accuracy: 0.8626\n",
            "Epoch 45/200\n",
            "1000/1000 [==============================] - 2s 2ms/step - loss: 0.3337 - accuracy: 0.8637\n",
            "Epoch 46/200\n",
            "1000/1000 [==============================] - 2s 2ms/step - loss: 0.3323 - accuracy: 0.8644\n",
            "Epoch 47/200\n",
            "1000/1000 [==============================] - 2s 2ms/step - loss: 0.3321 - accuracy: 0.8630\n",
            "Epoch 48/200\n",
            "1000/1000 [==============================] - 2s 2ms/step - loss: 0.3320 - accuracy: 0.8646\n",
            "Epoch 49/200\n",
            "1000/1000 [==============================] - 2s 2ms/step - loss: 0.3321 - accuracy: 0.8636\n",
            "Epoch 50/200\n",
            "1000/1000 [==============================] - 2s 2ms/step - loss: 0.3318 - accuracy: 0.8650\n",
            "Epoch 51/200\n",
            "1000/1000 [==============================] - 2s 2ms/step - loss: 0.3313 - accuracy: 0.8658\n",
            "Epoch 52/200\n",
            "1000/1000 [==============================] - 2s 2ms/step - loss: 0.3318 - accuracy: 0.8637\n",
            "Epoch 53/200\n",
            "1000/1000 [==============================] - 2s 2ms/step - loss: 0.3310 - accuracy: 0.8670\n",
            "Epoch 54/200\n",
            "1000/1000 [==============================] - 2s 2ms/step - loss: 0.3310 - accuracy: 0.8659\n",
            "Epoch 55/200\n",
            "1000/1000 [==============================] - 2s 2ms/step - loss: 0.3305 - accuracy: 0.8655\n",
            "Epoch 56/200\n",
            "1000/1000 [==============================] - 2s 1ms/step - loss: 0.3306 - accuracy: 0.8658\n",
            "Epoch 57/200\n",
            "1000/1000 [==============================] - 1s 1ms/step - loss: 0.3302 - accuracy: 0.8639\n",
            "Epoch 58/200\n",
            "1000/1000 [==============================] - 2s 2ms/step - loss: 0.3303 - accuracy: 0.8651\n",
            "Epoch 59/200\n",
            "1000/1000 [==============================] - 1s 1ms/step - loss: 0.3302 - accuracy: 0.8660\n",
            "Epoch 60/200\n",
            "1000/1000 [==============================] - 2s 2ms/step - loss: 0.3302 - accuracy: 0.8651\n",
            "Epoch 61/200\n",
            "1000/1000 [==============================] - 2s 2ms/step - loss: 0.3300 - accuracy: 0.8644\n",
            "Epoch 62/200\n",
            "1000/1000 [==============================] - 2s 2ms/step - loss: 0.3293 - accuracy: 0.8656\n",
            "Epoch 63/200\n",
            "1000/1000 [==============================] - 2s 2ms/step - loss: 0.3297 - accuracy: 0.8651\n",
            "Epoch 64/200\n",
            "1000/1000 [==============================] - 2s 2ms/step - loss: 0.3289 - accuracy: 0.8664\n",
            "Epoch 65/200\n",
            "1000/1000 [==============================] - 2s 2ms/step - loss: 0.3294 - accuracy: 0.8654\n",
            "Epoch 66/200\n",
            "1000/1000 [==============================] - 2s 2ms/step - loss: 0.3289 - accuracy: 0.8665\n",
            "Epoch 67/200\n",
            "1000/1000 [==============================] - 2s 2ms/step - loss: 0.3287 - accuracy: 0.8641\n",
            "Epoch 68/200\n",
            "1000/1000 [==============================] - 2s 2ms/step - loss: 0.3284 - accuracy: 0.8669\n",
            "Epoch 69/200\n",
            "1000/1000 [==============================] - 1s 1ms/step - loss: 0.3279 - accuracy: 0.8669\n",
            "Epoch 70/200\n",
            "1000/1000 [==============================] - 2s 2ms/step - loss: 0.3285 - accuracy: 0.8664\n",
            "Epoch 71/200\n",
            "1000/1000 [==============================] - 2s 2ms/step - loss: 0.3274 - accuracy: 0.8664\n",
            "Epoch 72/200\n",
            "1000/1000 [==============================] - 2s 2ms/step - loss: 0.3283 - accuracy: 0.8673\n",
            "Epoch 73/200\n",
            "1000/1000 [==============================] - 1s 1ms/step - loss: 0.3273 - accuracy: 0.8654\n",
            "Epoch 74/200\n",
            "1000/1000 [==============================] - 1s 1ms/step - loss: 0.3281 - accuracy: 0.8669\n",
            "Epoch 75/200\n",
            "1000/1000 [==============================] - 2s 2ms/step - loss: 0.3274 - accuracy: 0.8664\n",
            "Epoch 76/200\n",
            "1000/1000 [==============================] - 2s 2ms/step - loss: 0.3275 - accuracy: 0.8655\n",
            "Epoch 77/200\n",
            "1000/1000 [==============================] - 1s 1ms/step - loss: 0.3273 - accuracy: 0.8662\n",
            "Epoch 78/200\n",
            "1000/1000 [==============================] - 2s 1ms/step - loss: 0.3282 - accuracy: 0.8668\n",
            "Epoch 79/200\n",
            "1000/1000 [==============================] - 1s 1ms/step - loss: 0.3269 - accuracy: 0.8652\n",
            "Epoch 80/200\n",
            "1000/1000 [==============================] - 2s 2ms/step - loss: 0.3274 - accuracy: 0.8652\n",
            "Epoch 81/200\n",
            "1000/1000 [==============================] - 2s 1ms/step - loss: 0.3274 - accuracy: 0.8668\n",
            "Epoch 82/200\n",
            "1000/1000 [==============================] - 1s 1ms/step - loss: 0.3271 - accuracy: 0.8662\n",
            "Epoch 83/200\n",
            "1000/1000 [==============================] - 1s 1ms/step - loss: 0.3273 - accuracy: 0.8670\n",
            "Epoch 84/200\n",
            "1000/1000 [==============================] - 2s 2ms/step - loss: 0.3268 - accuracy: 0.8676\n",
            "Epoch 85/200\n",
            "1000/1000 [==============================] - 2s 2ms/step - loss: 0.3264 - accuracy: 0.8662\n",
            "Epoch 86/200\n",
            "1000/1000 [==============================] - 2s 1ms/step - loss: 0.3261 - accuracy: 0.8662\n",
            "Epoch 87/200\n",
            "1000/1000 [==============================] - 1s 1ms/step - loss: 0.3264 - accuracy: 0.8662\n",
            "Epoch 88/200\n",
            "1000/1000 [==============================] - 1s 1ms/step - loss: 0.3266 - accuracy: 0.8656\n",
            "Epoch 89/200\n",
            "1000/1000 [==============================] - 1s 1ms/step - loss: 0.3264 - accuracy: 0.8677\n",
            "Epoch 90/200\n",
            "1000/1000 [==============================] - 1s 1ms/step - loss: 0.3262 - accuracy: 0.8652\n",
            "Epoch 91/200\n",
            "1000/1000 [==============================] - 2s 1ms/step - loss: 0.3260 - accuracy: 0.8670\n",
            "Epoch 92/200\n",
            "1000/1000 [==============================] - 2s 2ms/step - loss: 0.3260 - accuracy: 0.8661\n",
            "Epoch 93/200\n",
            "1000/1000 [==============================] - 1s 1ms/step - loss: 0.3263 - accuracy: 0.8690\n",
            "Epoch 94/200\n",
            "1000/1000 [==============================] - 2s 1ms/step - loss: 0.3259 - accuracy: 0.8680\n",
            "Epoch 95/200\n",
            "1000/1000 [==============================] - 2s 2ms/step - loss: 0.3261 - accuracy: 0.8654\n",
            "Epoch 96/200\n",
            "1000/1000 [==============================] - 2s 2ms/step - loss: 0.3265 - accuracy: 0.8665\n",
            "Epoch 97/200\n",
            "1000/1000 [==============================] - 2s 2ms/step - loss: 0.3257 - accuracy: 0.8666\n",
            "Epoch 98/200\n",
            "1000/1000 [==============================] - 2s 2ms/step - loss: 0.3255 - accuracy: 0.8666\n",
            "Epoch 99/200\n",
            "1000/1000 [==============================] - 2s 2ms/step - loss: 0.3258 - accuracy: 0.8681\n",
            "Epoch 100/200\n",
            "1000/1000 [==============================] - 2s 2ms/step - loss: 0.3255 - accuracy: 0.8666\n",
            "Epoch 101/200\n",
            "1000/1000 [==============================] - 2s 2ms/step - loss: 0.3255 - accuracy: 0.8664\n",
            "Epoch 102/200\n",
            "1000/1000 [==============================] - 2s 2ms/step - loss: 0.3258 - accuracy: 0.8676\n",
            "Epoch 103/200\n",
            "1000/1000 [==============================] - 2s 2ms/step - loss: 0.3253 - accuracy: 0.8673\n",
            "Epoch 104/200\n",
            "1000/1000 [==============================] - 2s 2ms/step - loss: 0.3255 - accuracy: 0.8669\n",
            "Epoch 105/200\n",
            "1000/1000 [==============================] - 2s 2ms/step - loss: 0.3252 - accuracy: 0.8656\n",
            "Epoch 106/200\n",
            "1000/1000 [==============================] - 2s 2ms/step - loss: 0.3253 - accuracy: 0.8673\n",
            "Epoch 107/200\n",
            "1000/1000 [==============================] - 2s 2ms/step - loss: 0.3257 - accuracy: 0.8674\n",
            "Epoch 108/200\n",
            "1000/1000 [==============================] - 2s 2ms/step - loss: 0.3250 - accuracy: 0.8686\n",
            "Epoch 109/200\n",
            "1000/1000 [==============================] - 2s 2ms/step - loss: 0.3255 - accuracy: 0.8675\n",
            "Epoch 110/200\n",
            "1000/1000 [==============================] - 2s 2ms/step - loss: 0.3252 - accuracy: 0.8674\n",
            "Epoch 111/200\n",
            "1000/1000 [==============================] - 2s 2ms/step - loss: 0.3251 - accuracy: 0.8676\n",
            "Epoch 112/200\n",
            "1000/1000 [==============================] - 2s 2ms/step - loss: 0.3250 - accuracy: 0.8669\n",
            "Epoch 113/200\n",
            "1000/1000 [==============================] - 2s 2ms/step - loss: 0.3252 - accuracy: 0.8668\n",
            "Epoch 114/200\n",
            "1000/1000 [==============================] - 2s 2ms/step - loss: 0.3255 - accuracy: 0.8669\n",
            "Epoch 115/200\n",
            "1000/1000 [==============================] - 2s 2ms/step - loss: 0.3248 - accuracy: 0.8677\n",
            "Epoch 116/200\n",
            "1000/1000 [==============================] - 2s 2ms/step - loss: 0.3249 - accuracy: 0.8645\n",
            "Epoch 117/200\n",
            "1000/1000 [==============================] - 2s 2ms/step - loss: 0.3255 - accuracy: 0.8659\n",
            "Epoch 118/200\n",
            "1000/1000 [==============================] - 2s 2ms/step - loss: 0.3253 - accuracy: 0.8675\n",
            "Epoch 119/200\n",
            "1000/1000 [==============================] - 2s 2ms/step - loss: 0.3245 - accuracy: 0.8668\n",
            "Epoch 120/200\n",
            "1000/1000 [==============================] - 2s 2ms/step - loss: 0.3248 - accuracy: 0.8671\n",
            "Epoch 121/200\n",
            "1000/1000 [==============================] - 2s 2ms/step - loss: 0.3250 - accuracy: 0.8662\n",
            "Epoch 122/200\n",
            "1000/1000 [==============================] - 2s 2ms/step - loss: 0.3251 - accuracy: 0.8692\n",
            "Epoch 123/200\n",
            "1000/1000 [==============================] - 2s 2ms/step - loss: 0.3248 - accuracy: 0.8662\n",
            "Epoch 124/200\n",
            "1000/1000 [==============================] - 2s 2ms/step - loss: 0.3252 - accuracy: 0.8673\n",
            "Epoch 125/200\n",
            "1000/1000 [==============================] - 2s 2ms/step - loss: 0.3250 - accuracy: 0.8665\n",
            "Epoch 126/200\n",
            "1000/1000 [==============================] - 2s 2ms/step - loss: 0.3249 - accuracy: 0.8670\n",
            "Epoch 127/200\n",
            "1000/1000 [==============================] - 2s 2ms/step - loss: 0.3252 - accuracy: 0.8671\n",
            "Epoch 128/200\n",
            "1000/1000 [==============================] - 2s 2ms/step - loss: 0.3244 - accuracy: 0.8685\n",
            "Epoch 129/200\n",
            "1000/1000 [==============================] - 2s 2ms/step - loss: 0.3248 - accuracy: 0.8676\n",
            "Epoch 130/200\n",
            "1000/1000 [==============================] - 2s 2ms/step - loss: 0.3251 - accuracy: 0.8679\n",
            "Epoch 131/200\n",
            "1000/1000 [==============================] - 2s 2ms/step - loss: 0.3244 - accuracy: 0.8681\n",
            "Epoch 132/200\n",
            "1000/1000 [==============================] - 2s 2ms/step - loss: 0.3245 - accuracy: 0.8670\n",
            "Epoch 133/200\n",
            "1000/1000 [==============================] - 2s 2ms/step - loss: 0.3245 - accuracy: 0.8679\n",
            "Epoch 134/200\n",
            "1000/1000 [==============================] - 2s 2ms/step - loss: 0.3246 - accuracy: 0.8673\n",
            "Epoch 135/200\n",
            "1000/1000 [==============================] - 2s 2ms/step - loss: 0.3244 - accuracy: 0.8658\n",
            "Epoch 136/200\n",
            "1000/1000 [==============================] - 2s 2ms/step - loss: 0.3242 - accuracy: 0.8668\n",
            "Epoch 137/200\n",
            "1000/1000 [==============================] - 2s 2ms/step - loss: 0.3247 - accuracy: 0.8671\n",
            "Epoch 138/200\n",
            "1000/1000 [==============================] - 2s 2ms/step - loss: 0.3249 - accuracy: 0.8671\n",
            "Epoch 139/200\n",
            "1000/1000 [==============================] - 2s 2ms/step - loss: 0.3239 - accuracy: 0.8668\n",
            "Epoch 140/200\n",
            "1000/1000 [==============================] - 2s 2ms/step - loss: 0.3248 - accuracy: 0.8664\n",
            "Epoch 141/200\n",
            "1000/1000 [==============================] - 2s 2ms/step - loss: 0.3244 - accuracy: 0.8668\n",
            "Epoch 142/200\n",
            "1000/1000 [==============================] - 2s 2ms/step - loss: 0.3244 - accuracy: 0.8666\n",
            "Epoch 143/200\n",
            "1000/1000 [==============================] - 2s 2ms/step - loss: 0.3245 - accuracy: 0.8655\n",
            "Epoch 144/200\n",
            "1000/1000 [==============================] - 2s 2ms/step - loss: 0.3247 - accuracy: 0.8676\n",
            "Epoch 145/200\n",
            "1000/1000 [==============================] - 2s 2ms/step - loss: 0.3236 - accuracy: 0.8666\n",
            "Epoch 146/200\n",
            "1000/1000 [==============================] - 2s 2ms/step - loss: 0.3243 - accuracy: 0.8679\n",
            "Epoch 147/200\n",
            "1000/1000 [==============================] - 2s 2ms/step - loss: 0.3248 - accuracy: 0.8671\n",
            "Epoch 148/200\n",
            "1000/1000 [==============================] - 2s 2ms/step - loss: 0.3243 - accuracy: 0.8680\n",
            "Epoch 149/200\n",
            "1000/1000 [==============================] - 2s 2ms/step - loss: 0.3246 - accuracy: 0.8671\n",
            "Epoch 150/200\n",
            "1000/1000 [==============================] - 2s 2ms/step - loss: 0.3244 - accuracy: 0.8661\n",
            "Epoch 151/200\n",
            "1000/1000 [==============================] - 2s 2ms/step - loss: 0.3243 - accuracy: 0.8659\n",
            "Epoch 152/200\n",
            "1000/1000 [==============================] - 2s 2ms/step - loss: 0.3242 - accuracy: 0.8676\n",
            "Epoch 153/200\n",
            "1000/1000 [==============================] - 2s 2ms/step - loss: 0.3240 - accuracy: 0.8673\n",
            "Epoch 154/200\n",
            "1000/1000 [==============================] - 2s 2ms/step - loss: 0.3246 - accuracy: 0.8669\n",
            "Epoch 155/200\n",
            "1000/1000 [==============================] - 2s 2ms/step - loss: 0.3246 - accuracy: 0.8691\n",
            "Epoch 156/200\n",
            "1000/1000 [==============================] - 2s 2ms/step - loss: 0.3242 - accuracy: 0.8674\n",
            "Epoch 157/200\n",
            "1000/1000 [==============================] - 2s 2ms/step - loss: 0.3243 - accuracy: 0.8669\n",
            "Epoch 158/200\n",
            "1000/1000 [==============================] - 2s 2ms/step - loss: 0.3242 - accuracy: 0.8664\n",
            "Epoch 159/200\n",
            "1000/1000 [==============================] - 2s 2ms/step - loss: 0.3235 - accuracy: 0.8673\n",
            "Epoch 160/200\n",
            "1000/1000 [==============================] - 2s 2ms/step - loss: 0.3245 - accuracy: 0.8668\n",
            "Epoch 161/200\n",
            "1000/1000 [==============================] - 2s 2ms/step - loss: 0.3238 - accuracy: 0.8660\n",
            "Epoch 162/200\n",
            "1000/1000 [==============================] - 2s 2ms/step - loss: 0.3237 - accuracy: 0.8664\n",
            "Epoch 163/200\n",
            "1000/1000 [==============================] - 2s 2ms/step - loss: 0.3244 - accuracy: 0.8660\n",
            "Epoch 164/200\n",
            "1000/1000 [==============================] - 2s 2ms/step - loss: 0.3234 - accuracy: 0.8687\n",
            "Epoch 165/200\n",
            "1000/1000 [==============================] - 2s 2ms/step - loss: 0.3240 - accuracy: 0.8651\n",
            "Epoch 166/200\n",
            "1000/1000 [==============================] - 2s 2ms/step - loss: 0.3240 - accuracy: 0.8691\n",
            "Epoch 167/200\n",
            "1000/1000 [==============================] - 2s 2ms/step - loss: 0.3240 - accuracy: 0.8670\n",
            "Epoch 168/200\n",
            "1000/1000 [==============================] - 2s 2ms/step - loss: 0.3240 - accuracy: 0.8671\n",
            "Epoch 169/200\n",
            "1000/1000 [==============================] - 2s 2ms/step - loss: 0.3243 - accuracy: 0.8669\n",
            "Epoch 170/200\n",
            "1000/1000 [==============================] - 2s 2ms/step - loss: 0.3243 - accuracy: 0.8671\n",
            "Epoch 171/200\n",
            "1000/1000 [==============================] - 2s 2ms/step - loss: 0.3238 - accuracy: 0.8664\n",
            "Epoch 172/200\n",
            "1000/1000 [==============================] - 2s 2ms/step - loss: 0.3241 - accuracy: 0.8671\n",
            "Epoch 173/200\n",
            "1000/1000 [==============================] - 2s 2ms/step - loss: 0.3238 - accuracy: 0.8683\n",
            "Epoch 174/200\n",
            "1000/1000 [==============================] - 2s 2ms/step - loss: 0.3246 - accuracy: 0.8661\n",
            "Epoch 175/200\n",
            "1000/1000 [==============================] - 2s 2ms/step - loss: 0.3240 - accuracy: 0.8684\n",
            "Epoch 176/200\n",
            "1000/1000 [==============================] - 2s 2ms/step - loss: 0.3233 - accuracy: 0.8674\n",
            "Epoch 177/200\n",
            "1000/1000 [==============================] - 2s 2ms/step - loss: 0.3233 - accuracy: 0.8664\n",
            "Epoch 178/200\n",
            "1000/1000 [==============================] - 2s 2ms/step - loss: 0.3239 - accuracy: 0.8662\n",
            "Epoch 179/200\n",
            "1000/1000 [==============================] - 2s 2ms/step - loss: 0.3236 - accuracy: 0.8673\n",
            "Epoch 180/200\n",
            "1000/1000 [==============================] - 2s 2ms/step - loss: 0.3236 - accuracy: 0.8685\n",
            "Epoch 181/200\n",
            "1000/1000 [==============================] - 2s 2ms/step - loss: 0.3241 - accuracy: 0.8660\n",
            "Epoch 182/200\n",
            "1000/1000 [==============================] - 2s 2ms/step - loss: 0.3237 - accuracy: 0.8671\n",
            "Epoch 183/200\n",
            "1000/1000 [==============================] - 2s 2ms/step - loss: 0.3237 - accuracy: 0.8679\n",
            "Epoch 184/200\n",
            "1000/1000 [==============================] - 2s 2ms/step - loss: 0.3232 - accuracy: 0.8654\n",
            "Epoch 185/200\n",
            "1000/1000 [==============================] - 2s 2ms/step - loss: 0.3231 - accuracy: 0.8668\n",
            "Epoch 186/200\n",
            "1000/1000 [==============================] - 2s 2ms/step - loss: 0.3234 - accuracy: 0.8668\n",
            "Epoch 187/200\n",
            "1000/1000 [==============================] - 2s 2ms/step - loss: 0.3238 - accuracy: 0.8685\n",
            "Epoch 188/200\n",
            "1000/1000 [==============================] - 2s 2ms/step - loss: 0.3236 - accuracy: 0.8669\n",
            "Epoch 189/200\n",
            "1000/1000 [==============================] - 2s 2ms/step - loss: 0.3236 - accuracy: 0.8670\n",
            "Epoch 190/200\n",
            "1000/1000 [==============================] - 2s 2ms/step - loss: 0.3239 - accuracy: 0.8680\n",
            "Epoch 191/200\n",
            "1000/1000 [==============================] - 2s 2ms/step - loss: 0.3237 - accuracy: 0.8665\n",
            "Epoch 192/200\n",
            "1000/1000 [==============================] - 2s 2ms/step - loss: 0.3234 - accuracy: 0.8675\n",
            "Epoch 193/200\n",
            "1000/1000 [==============================] - 2s 2ms/step - loss: 0.3238 - accuracy: 0.8675\n",
            "Epoch 194/200\n",
            "1000/1000 [==============================] - 2s 2ms/step - loss: 0.3235 - accuracy: 0.8690\n",
            "Epoch 195/200\n",
            "1000/1000 [==============================] - 2s 2ms/step - loss: 0.3231 - accuracy: 0.8679\n",
            "Epoch 196/200\n",
            "1000/1000 [==============================] - 2s 2ms/step - loss: 0.3236 - accuracy: 0.8684\n",
            "Epoch 197/200\n",
            "1000/1000 [==============================] - 2s 2ms/step - loss: 0.3235 - accuracy: 0.8689\n",
            "Epoch 198/200\n",
            "1000/1000 [==============================] - 2s 2ms/step - loss: 0.3233 - accuracy: 0.8685\n",
            "Epoch 199/200\n",
            "1000/1000 [==============================] - 2s 2ms/step - loss: 0.3243 - accuracy: 0.8675\n",
            "Epoch 200/200\n",
            "1000/1000 [==============================] - 2s 2ms/step - loss: 0.3232 - accuracy: 0.8691\n"
          ]
        },
        {
          "output_type": "execute_result",
          "data": {
            "text/plain": [
              "<keras.callbacks.History at 0x7f008f596510>"
            ]
          },
          "metadata": {},
          "execution_count": 17
        }
      ]
    },
    {
      "cell_type": "markdown",
      "metadata": {
        "id": "tJj5k2MxZga3"
      },
      "source": [
        "## Part 4 - Making the predictions and evaluating the model"
      ]
    },
    {
      "cell_type": "markdown",
      "metadata": {
        "id": "84QFoqGYeXHL"
      },
      "source": [
        "### Predicting the result of a single observation"
      ]
    },
    {
      "cell_type": "markdown",
      "metadata": {
        "id": "CGRo3eacgDdC"
      },
      "source": [
        "**Homework**\n",
        "\n",
        "Use our ANN model to predict if the customer with the following informations will leave the bank: \n",
        "\n",
        "Geography: France\n",
        "\n",
        "Credit Score: 600\n",
        "\n",
        "Gender: Male\n",
        "\n",
        "Age: 40 years old\n",
        "\n",
        "Tenure: 3 years\n",
        "\n",
        "Balance: \\$ 60000\n",
        "\n",
        "Number of Products: 2\n",
        "\n",
        "Does this customer have a credit card? Yes\n",
        "\n",
        "Is this customer an Active Member: Yes\n",
        "\n",
        "Estimated Salary: \\$ 50000\n",
        "\n",
        "So, should we say goodbye to that customer?"
      ]
    },
    {
      "cell_type": "markdown",
      "metadata": {
        "id": "ZhU1LTgPg-kH"
      },
      "source": [
        "**Solution**"
      ]
    },
    {
      "cell_type": "code",
      "metadata": {
        "id": "2d8IoCCkeWGL",
        "outputId": "63998592-787e-49f1-e6e5-26fa5a444f3a",
        "colab": {
          "base_uri": "https://localhost:8080/"
        }
      },
      "source": [
        "print(ann.predict(sc.transform([[1, 0, 0, 600, 1, 40, 3, 60000, 2, 1, 1, 50000]])) > 0.5)"
      ],
      "execution_count": null,
      "outputs": [
        {
          "output_type": "stream",
          "name": "stdout",
          "text": [
            "[[False]]\n"
          ]
        }
      ]
    },
    {
      "cell_type": "markdown",
      "metadata": {
        "id": "wGjx94g2n7OV"
      },
      "source": [
        "Therefore, our ANN model predicts that this customer stays in the bank!\n",
        "\n",
        "**Important note 1:** Notice that the values of the features were all input in a double pair of square brackets. That's because the \"predict\" method always expects a 2D array as the format of its inputs. And putting our values into a double pair of square brackets makes the input exactly a 2D array.\n",
        "\n",
        "**Important note 2:** Notice also that the \"France\" country was not input as a string in the last column but as \"1, 0, 0\" in the first three columns. That's because of course the predict method expects the one-hot-encoded values of the state, and as we see in the first row of the matrix of features X, \"France\" was encoded as \"1, 0, 0\". And be careful to include these values in the first three columns, because the dummy variables are always created in the first columns."
      ]
    },
    {
      "cell_type": "markdown",
      "metadata": {
        "id": "u7yx47jPZt11"
      },
      "source": [
        "### Predicting the Test set results"
      ]
    },
    {
      "cell_type": "code",
      "metadata": {
        "id": "nIyEeQdRZwgs",
        "outputId": "81fdac98-b26b-4227-9639-943a30a7195c",
        "colab": {
          "base_uri": "https://localhost:8080/"
        }
      },
      "source": [
        "y_pred = ann.predict(X_test)\n",
        "y_pred = (y_pred > 0.5)\n",
        "print(np.concatenate((y_pred.reshape(len(y_pred),1), y_test.reshape(len(y_test),1)),1))"
      ],
      "execution_count": null,
      "outputs": [
        {
          "output_type": "stream",
          "name": "stdout",
          "text": [
            "[[0 0]\n",
            " [0 1]\n",
            " [0 0]\n",
            " ...\n",
            " [0 0]\n",
            " [0 0]\n",
            " [0 0]]\n"
          ]
        }
      ]
    },
    {
      "cell_type": "markdown",
      "metadata": {
        "id": "o0oyfLWoaEGw"
      },
      "source": [
        "### Making the Confusion Matrix"
      ]
    },
    {
      "cell_type": "code",
      "metadata": {
        "id": "ci6K_r6LaF6P",
        "outputId": "7edf7857-00ce-454d-ce26-1859e4270ee8",
        "colab": {
          "base_uri": "https://localhost:8080/"
        }
      },
      "source": [
        "from sklearn.metrics import confusion_matrix, accuracy_score\n",
        "cm = confusion_matrix(y_test, y_pred)\n",
        "print(cm)\n",
        "accuracy_score(y_test, y_pred)"
      ],
      "execution_count": null,
      "outputs": [
        {
          "output_type": "stream",
          "name": "stdout",
          "text": [
            "[[1521   74]\n",
            " [ 199  206]]\n"
          ]
        },
        {
          "output_type": "execute_result",
          "data": {
            "text/plain": [
              "0.8635"
            ]
          },
          "metadata": {},
          "execution_count": 20
        }
      ]
    },
    {
      "cell_type": "code",
      "source": [
        ""
      ],
      "metadata": {
        "id": "boilnCRpz2GU"
      },
      "execution_count": null,
      "outputs": []
    }
  ]
}