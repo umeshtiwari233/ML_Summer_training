{
  "nbformat": 4,
  "nbformat_minor": 0,
  "metadata": {
    "colab": {
      "name": "Image_Classification_using_ANN .ipynb",
      "provenance": [],
      "collapsed_sections": [],
      "include_colab_link": true
    },
    "kernelspec": {
      "name": "python3",
      "display_name": "Python 3"
    },
    "language_info": {
      "name": "python"
    },
    "accelerator": "GPU"
  },
  "cells": [
    {
      "cell_type": "markdown",
      "metadata": {
        "id": "view-in-github",
        "colab_type": "text"
      },
      "source": [
        "<a href=\"https://colab.research.google.com/github/umeshtiwari233/ML_Summer_training/blob/main/day6/covid-project/Image_Classification_using_ANN_.ipynb\" target=\"_parent\"><img src=\"https://colab.research.google.com/assets/colab-badge.svg\" alt=\"Open In Colab\"/></a>"
      ]
    },
    {
      "cell_type": "markdown",
      "metadata": {
        "id": "JT4a4dwlqhsd"
      },
      "source": [
        ""
      ]
    },
    {
      "cell_type": "markdown",
      "metadata": {
        "id": "XwMdAK1XqmPI"
      },
      "source": [
        "#Project 1: Covid 19 Prediction using Artificial Neural Networks"
      ]
    },
    {
      "cell_type": "markdown",
      "metadata": {
        "id": "y9dbM1bxjvnU"
      },
      "source": [
        "Dataset: [Covid 19 Chest X-ray dataset](https://www.kaggle.com/tawsifurrahman/covid19-radiography-database)\n",
        "\n",
        "\n",
        "A team of researchers from Qatar University, Doha, Qatar, and the University of Dhaka, Bangladesh along with their collaborators from Pakistan and Malaysia in collaboration with medical doctors have created a database of chest X-ray images for COVID-19 positive cases along with Normal and Viral Pneumonia images. This COVID-19, normal, and other lung infection dataset is released in stages. In the first release, we have released 219 COVID-19, 1341 normal, and 1345 viral pneumonia chest X-ray (CXR) images. In the first update, we have increased the COVID-19 class to 1200 CXR images. In the 2nd update, we have increased the database to 3616 COVID-19 positive cases along with 10,192 Normal, 6012 Lung Opacity (Non-COVID lung infection), and 1345 Viral Pneumonia images. We will continue to update this database as soon as we have new x-ray images for COVID-19 pneumonia patients.\n",
        "\n"
      ]
    },
    {
      "cell_type": "markdown",
      "metadata": {
        "id": "9mHnC6nNtBK1"
      },
      "source": [
        "**1. Mount the Google Drive**"
      ]
    },
    {
      "cell_type": "code",
      "metadata": {
        "id": "gORvsC4_s_fY",
        "colab": {
          "base_uri": "https://localhost:8080/"
        },
        "outputId": "c97dfd85-f833-413c-d106-af4c55233d93"
      },
      "source": [
        "from google.colab import drive\n",
        "drive.mount('/content/drive')"
      ],
      "execution_count": null,
      "outputs": [
        {
          "output_type": "stream",
          "name": "stdout",
          "text": [
            "Drive already mounted at /content/drive; to attempt to forcibly remount, call drive.mount(\"/content/drive\", force_remount=True).\n"
          ]
        }
      ]
    },
    {
      "cell_type": "markdown",
      "metadata": {
        "id": "wiZOocimtGeu"
      },
      "source": [
        "**2. Move to the place where data resides**"
      ]
    },
    {
      "cell_type": "code",
      "metadata": {
        "id": "EdbGFIkPlah9",
        "outputId": "c774451c-e729-4295-b670-3f423d9b6e8e",
        "colab": {
          "base_uri": "https://localhost:8080/"
        }
      },
      "source": [
        "%cd /content/drive/MyDrive/DATASETS OF ML TRAINING/28jun_covid-datset_imageclassification/"
      ],
      "execution_count": null,
      "outputs": [
        {
          "output_type": "stream",
          "name": "stdout",
          "text": [
            "/content/drive/MyDrive/DATASETS OF ML TRAINING/28jun_covid-datset_imageclassification\n"
          ]
        }
      ]
    },
    {
      "cell_type": "code",
      "metadata": {
        "id": "lqViJFpyjxJZ",
        "colab": {
          "base_uri": "https://localhost:8080/"
        },
        "outputId": "c7681130-e41b-462d-99a1-d9ab446922df"
      },
      "source": [
        "!ls"
      ],
      "execution_count": null,
      "outputs": [
        {
          "output_type": "stream",
          "name": "stdout",
          "text": [
            "covid_dataset.zip\n"
          ]
        }
      ]
    },
    {
      "cell_type": "markdown",
      "metadata": {
        "id": "0e8v2RY-tKUs"
      },
      "source": [
        "**3. Unziping the dataset**"
      ]
    },
    {
      "cell_type": "code",
      "source": [
        "!pip install unzip"
      ],
      "metadata": {
        "colab": {
          "base_uri": "https://localhost:8080/"
        },
        "id": "PYfX_i50jzOc",
        "outputId": "8224a382-46b4-4837-aafe-bceaa8acace0"
      },
      "execution_count": null,
      "outputs": [
        {
          "output_type": "stream",
          "name": "stdout",
          "text": [
            "Looking in indexes: https://pypi.org/simple, https://us-python.pkg.dev/colab-wheels/public/simple/\n",
            "Collecting unzip\n",
            "  Downloading unzip-1.0.0.tar.gz (704 bytes)\n",
            "Building wheels for collected packages: unzip\n",
            "  Building wheel for unzip (setup.py) ... \u001b[?25l\u001b[?25hdone\n",
            "  Created wheel for unzip: filename=unzip-1.0.0-py3-none-any.whl size=1319 sha256=0b8d6619c69e71101ee49ba5000b663d0adfba9d8c86af432851b6d8083a38e0\n",
            "  Stored in directory: /root/.cache/pip/wheels/c5/05/b3/f7b36dbaaf76de31b718cde792c953bfd11d2414a72f204b56\n",
            "Successfully built unzip\n",
            "Installing collected packages: unzip\n",
            "Successfully installed unzip-1.0.0\n"
          ]
        }
      ]
    },
    {
      "cell_type": "code",
      "metadata": {
        "id": "kOWDshT6lb8K",
        "colab": {
          "base_uri": "https://localhost:8080/"
        },
        "outputId": "8bc6567c-d835-4588-9e42-e3969c687a37"
      },
      "source": [
        "!unzip covid_dataset.zip"
      ],
      "execution_count": null,
      "outputs": [
        {
          "output_type": "stream",
          "name": "stdout",
          "text": [
            "Archive:  covid_dataset.zip\n",
            "   creating: covid_dataset/\n",
            "   creating: covid_dataset/COVID/\n",
            "  inflating: covid_dataset/COVID/COVID-1.png  \n",
            "  inflating: covid_dataset/COVID/COVID-10.png  \n",
            "  inflating: covid_dataset/COVID/COVID-11.png  \n",
            "  inflating: covid_dataset/COVID/COVID-12.png  \n",
            "  inflating: covid_dataset/COVID/COVID-13.png  \n",
            "  inflating: covid_dataset/COVID/COVID-14.png  \n",
            "  inflating: covid_dataset/COVID/COVID-15.png  \n",
            "  inflating: covid_dataset/COVID/COVID-16.png  \n",
            "  inflating: covid_dataset/COVID/COVID-17.png  \n",
            "  inflating: covid_dataset/COVID/COVID-18.png  \n",
            "  inflating: covid_dataset/COVID/COVID-19.png  \n",
            "  inflating: covid_dataset/COVID/COVID-2.png  \n",
            "  inflating: covid_dataset/COVID/COVID-20.png  \n",
            "  inflating: covid_dataset/COVID/COVID-21.png  \n",
            "  inflating: covid_dataset/COVID/COVID-22.png  \n",
            "  inflating: covid_dataset/COVID/COVID-23.png  \n",
            "  inflating: covid_dataset/COVID/COVID-24.png  \n",
            "  inflating: covid_dataset/COVID/COVID-25.png  \n",
            "  inflating: covid_dataset/COVID/COVID-26.png  \n",
            "  inflating: covid_dataset/COVID/COVID-27.png  \n",
            "  inflating: covid_dataset/COVID/COVID-28.png  \n",
            "  inflating: covid_dataset/COVID/COVID-29.png  \n",
            "  inflating: covid_dataset/COVID/COVID-3.png  \n",
            "  inflating: covid_dataset/COVID/COVID-30.png  \n",
            "  inflating: covid_dataset/COVID/COVID-31.png  \n",
            "  inflating: covid_dataset/COVID/COVID-32.png  \n",
            "  inflating: covid_dataset/COVID/COVID-33.png  \n",
            "  inflating: covid_dataset/COVID/COVID-34.png  \n",
            "  inflating: covid_dataset/COVID/COVID-35.png  \n",
            "  inflating: covid_dataset/COVID/COVID-36.png  \n",
            "  inflating: covid_dataset/COVID/COVID-37.png  \n",
            "  inflating: covid_dataset/COVID/COVID-38.png  \n",
            "  inflating: covid_dataset/COVID/COVID-39.png  \n",
            "  inflating: covid_dataset/COVID/COVID-4.png  \n",
            "  inflating: covid_dataset/COVID/COVID-40.png  \n",
            "  inflating: covid_dataset/COVID/COVID-41.png  \n",
            "  inflating: covid_dataset/COVID/COVID-42.png  \n",
            "  inflating: covid_dataset/COVID/COVID-43.png  \n",
            "  inflating: covid_dataset/COVID/COVID-44.png  \n",
            "  inflating: covid_dataset/COVID/COVID-45.png  \n",
            "  inflating: covid_dataset/COVID/COVID-46.png  \n",
            "  inflating: covid_dataset/COVID/COVID-47.png  \n",
            "  inflating: covid_dataset/COVID/COVID-48.png  \n",
            "  inflating: covid_dataset/COVID/COVID-49.png  \n",
            "  inflating: covid_dataset/COVID/COVID-5.png  \n",
            "  inflating: covid_dataset/COVID/COVID-50.png  \n",
            "  inflating: covid_dataset/COVID/COVID-6.png  \n",
            "  inflating: covid_dataset/COVID/COVID-7.png  \n",
            "  inflating: covid_dataset/COVID/COVID-8.png  \n",
            "  inflating: covid_dataset/COVID/COVID-9.png  \n",
            "   creating: covid_dataset/Normal/\n",
            "  inflating: covid_dataset/Normal/Normal-1.png  \n",
            "  inflating: covid_dataset/Normal/Normal-10.png  \n",
            "  inflating: covid_dataset/Normal/Normal-11.png  \n",
            "  inflating: covid_dataset/Normal/Normal-12.png  \n",
            "  inflating: covid_dataset/Normal/Normal-13.png  \n",
            "  inflating: covid_dataset/Normal/Normal-14.png  \n",
            "  inflating: covid_dataset/Normal/Normal-15.png  \n",
            "  inflating: covid_dataset/Normal/Normal-16.png  \n",
            "  inflating: covid_dataset/Normal/Normal-17.png  \n",
            "  inflating: covid_dataset/Normal/Normal-18.png  \n",
            "  inflating: covid_dataset/Normal/Normal-19.png  \n",
            "  inflating: covid_dataset/Normal/Normal-2.png  \n",
            "  inflating: covid_dataset/Normal/Normal-20.png  \n",
            "  inflating: covid_dataset/Normal/Normal-21.png  \n",
            "  inflating: covid_dataset/Normal/Normal-22.png  \n",
            "  inflating: covid_dataset/Normal/Normal-23.png  \n",
            "  inflating: covid_dataset/Normal/Normal-24.png  \n",
            "  inflating: covid_dataset/Normal/Normal-25.png  \n",
            "  inflating: covid_dataset/Normal/Normal-26.png  \n",
            "  inflating: covid_dataset/Normal/Normal-27.png  \n",
            "  inflating: covid_dataset/Normal/Normal-28.png  \n",
            "  inflating: covid_dataset/Normal/Normal-29.png  \n",
            "  inflating: covid_dataset/Normal/Normal-3.png  \n",
            "  inflating: covid_dataset/Normal/Normal-30.png  \n",
            "  inflating: covid_dataset/Normal/Normal-31.png  \n",
            "  inflating: covid_dataset/Normal/Normal-32.png  \n",
            "  inflating: covid_dataset/Normal/Normal-33.png  \n",
            "  inflating: covid_dataset/Normal/Normal-34.png  \n",
            "  inflating: covid_dataset/Normal/Normal-35.png  \n",
            "  inflating: covid_dataset/Normal/Normal-36.png  \n",
            "  inflating: covid_dataset/Normal/Normal-37.png  \n",
            "  inflating: covid_dataset/Normal/Normal-38.png  \n",
            "  inflating: covid_dataset/Normal/Normal-39.png  \n",
            "  inflating: covid_dataset/Normal/Normal-4.png  \n",
            "  inflating: covid_dataset/Normal/Normal-40.png  \n",
            "  inflating: covid_dataset/Normal/Normal-41.png  \n",
            "  inflating: covid_dataset/Normal/Normal-42.png  \n",
            "  inflating: covid_dataset/Normal/Normal-43.png  \n",
            "  inflating: covid_dataset/Normal/Normal-44.png  \n",
            "  inflating: covid_dataset/Normal/Normal-45.png  \n",
            "  inflating: covid_dataset/Normal/Normal-46.png  \n",
            "  inflating: covid_dataset/Normal/Normal-47.png  \n",
            "  inflating: covid_dataset/Normal/Normal-48.png  \n",
            "  inflating: covid_dataset/Normal/Normal-49.png  \n",
            "  inflating: covid_dataset/Normal/Normal-5.png  \n",
            "  inflating: covid_dataset/Normal/Normal-50.png  \n",
            "  inflating: covid_dataset/Normal/Normal-6.png  \n",
            "  inflating: covid_dataset/Normal/Normal-7.png  \n",
            "  inflating: covid_dataset/Normal/Normal-8.png  \n",
            "  inflating: covid_dataset/Normal/Normal-9.png  \n",
            "   creating: covid_dataset/Viral Pneumonia/\n",
            "  inflating: covid_dataset/Viral Pneumonia/Viral Pneumonia-1.png  \n",
            "  inflating: covid_dataset/Viral Pneumonia/Viral Pneumonia-10.png  \n",
            "  inflating: covid_dataset/Viral Pneumonia/Viral Pneumonia-11.png  \n",
            "  inflating: covid_dataset/Viral Pneumonia/Viral Pneumonia-12.png  \n",
            "  inflating: covid_dataset/Viral Pneumonia/Viral Pneumonia-13.png  \n",
            "  inflating: covid_dataset/Viral Pneumonia/Viral Pneumonia-14.png  \n",
            "  inflating: covid_dataset/Viral Pneumonia/Viral Pneumonia-15.png  \n",
            "  inflating: covid_dataset/Viral Pneumonia/Viral Pneumonia-16.png  \n",
            "  inflating: covid_dataset/Viral Pneumonia/Viral Pneumonia-17.png  \n",
            "  inflating: covid_dataset/Viral Pneumonia/Viral Pneumonia-18.png  \n",
            "  inflating: covid_dataset/Viral Pneumonia/Viral Pneumonia-19.png  \n",
            "  inflating: covid_dataset/Viral Pneumonia/Viral Pneumonia-2.png  \n",
            "  inflating: covid_dataset/Viral Pneumonia/Viral Pneumonia-20.png  \n",
            "  inflating: covid_dataset/Viral Pneumonia/Viral Pneumonia-21.png  \n",
            "  inflating: covid_dataset/Viral Pneumonia/Viral Pneumonia-22.png  \n",
            "  inflating: covid_dataset/Viral Pneumonia/Viral Pneumonia-23.png  \n",
            "  inflating: covid_dataset/Viral Pneumonia/Viral Pneumonia-24.png  \n",
            "  inflating: covid_dataset/Viral Pneumonia/Viral Pneumonia-25.png  \n",
            "  inflating: covid_dataset/Viral Pneumonia/Viral Pneumonia-26.png  \n",
            "  inflating: covid_dataset/Viral Pneumonia/Viral Pneumonia-27.png  \n",
            "  inflating: covid_dataset/Viral Pneumonia/Viral Pneumonia-28.png  \n",
            "  inflating: covid_dataset/Viral Pneumonia/Viral Pneumonia-29.png  \n",
            "  inflating: covid_dataset/Viral Pneumonia/Viral Pneumonia-3.png  \n",
            "  inflating: covid_dataset/Viral Pneumonia/Viral Pneumonia-30.png  \n",
            "  inflating: covid_dataset/Viral Pneumonia/Viral Pneumonia-31.png  \n",
            "  inflating: covid_dataset/Viral Pneumonia/Viral Pneumonia-32.png  \n",
            "  inflating: covid_dataset/Viral Pneumonia/Viral Pneumonia-33.png  \n",
            "  inflating: covid_dataset/Viral Pneumonia/Viral Pneumonia-34.png  \n",
            "  inflating: covid_dataset/Viral Pneumonia/Viral Pneumonia-35.png  \n",
            "  inflating: covid_dataset/Viral Pneumonia/Viral Pneumonia-36.png  \n",
            "  inflating: covid_dataset/Viral Pneumonia/Viral Pneumonia-37.png  \n",
            "  inflating: covid_dataset/Viral Pneumonia/Viral Pneumonia-38.png  \n",
            "  inflating: covid_dataset/Viral Pneumonia/Viral Pneumonia-39.png  \n",
            "  inflating: covid_dataset/Viral Pneumonia/Viral Pneumonia-4.png  \n",
            "  inflating: covid_dataset/Viral Pneumonia/Viral Pneumonia-40.png  \n",
            "  inflating: covid_dataset/Viral Pneumonia/Viral Pneumonia-41.png  \n",
            "  inflating: covid_dataset/Viral Pneumonia/Viral Pneumonia-42.png  \n",
            "  inflating: covid_dataset/Viral Pneumonia/Viral Pneumonia-43.png  \n",
            "  inflating: covid_dataset/Viral Pneumonia/Viral Pneumonia-44.png  \n",
            "  inflating: covid_dataset/Viral Pneumonia/Viral Pneumonia-45.png  \n",
            "  inflating: covid_dataset/Viral Pneumonia/Viral Pneumonia-46.png  \n",
            "  inflating: covid_dataset/Viral Pneumonia/Viral Pneumonia-47.png  \n",
            "  inflating: covid_dataset/Viral Pneumonia/Viral Pneumonia-48.png  \n",
            "  inflating: covid_dataset/Viral Pneumonia/Viral Pneumonia-49.png  \n",
            "  inflating: covid_dataset/Viral Pneumonia/Viral Pneumonia-5.png  \n",
            "  inflating: covid_dataset/Viral Pneumonia/Viral Pneumonia-50.png  \n",
            "  inflating: covid_dataset/Viral Pneumonia/Viral Pneumonia-6.png  \n",
            "  inflating: covid_dataset/Viral Pneumonia/Viral Pneumonia-7.png  \n",
            "  inflating: covid_dataset/Viral Pneumonia/Viral Pneumonia-8.png  \n",
            "  inflating: covid_dataset/Viral Pneumonia/Viral Pneumonia-9.png  \n"
          ]
        }
      ]
    },
    {
      "cell_type": "markdown",
      "metadata": {
        "id": "xvuRmzA0tNw0"
      },
      "source": [
        "**4. Install split folder python package**\n",
        "\n",
        "https://pypi.org/project/split-folders/"
      ]
    },
    {
      "cell_type": "code",
      "metadata": {
        "id": "r-4b_r2qlenB",
        "colab": {
          "base_uri": "https://localhost:8080/"
        },
        "outputId": "be5c3e22-2768-4548-e4e3-cd4948a1f9f7"
      },
      "source": [
        "!pip install split_folders"
      ],
      "execution_count": null,
      "outputs": [
        {
          "output_type": "stream",
          "name": "stdout",
          "text": [
            "Looking in indexes: https://pypi.org/simple, https://us-python.pkg.dev/colab-wheels/public/simple/\n",
            "Collecting split_folders\n",
            "  Downloading split_folders-0.5.1-py3-none-any.whl (8.4 kB)\n",
            "Installing collected packages: split-folders\n",
            "Successfully installed split-folders-0.5.1\n"
          ]
        }
      ]
    },
    {
      "cell_type": "markdown",
      "metadata": {
        "id": "yq0KuuUatVi-"
      },
      "source": [
        "**5. Splitting the data in training, testing and validation set**"
      ]
    },
    {
      "cell_type": "code",
      "metadata": {
        "id": "8xXGHVOIlheA",
        "colab": {
          "base_uri": "https://localhost:8080/"
        },
        "outputId": "daad1587-a37b-4476-d549-2ea827844535"
      },
      "source": [
        "import splitfolders\n",
        "splitfolders.ratio(\"covid_dataset\", output=\"split\", seed=1337, ratio=(.8, .1, .1), group_prefix=None)"
      ],
      "execution_count": null,
      "outputs": [
        {
          "output_type": "stream",
          "name": "stderr",
          "text": [
            "Copying files: 150 files [00:01, 137.30 files/s]\n"
          ]
        }
      ]
    },
    {
      "cell_type": "markdown",
      "metadata": {
        "id": "4_rTBEKCtaTR"
      },
      "source": [
        "**6. Loading the dataset with normalization in batches**"
      ]
    },
    {
      "cell_type": "code",
      "metadata": {
        "id": "4of-TiQPlkCZ",
        "colab": {
          "base_uri": "https://localhost:8080/"
        },
        "outputId": "aeef493e-8723-4331-892b-2a9cbd1e5504"
      },
      "source": [
        "from keras.preprocessing.image import ImageDataGenerator\n",
        "\n",
        "# Normalize training and validation data in the range of 0 to 1\n",
        "train_datagen = ImageDataGenerator(rescale=1./255)\n",
        "validation_datagen = ImageDataGenerator(rescale=1./255)\n",
        "test_datagen = ImageDataGenerator(rescale=1./255)\n",
        "\n",
        "# Read the training sample and set the batch size \n",
        "train_generator = train_datagen.flow_from_directory(\n",
        "        'split/train/',\n",
        "        target_size=(128, 128),\n",
        "        batch_size=8,\n",
        "        seed=100,\n",
        "        class_mode='categorical')\n",
        "\n",
        "# Read Validation data from directory and define target size with batch size\n",
        "validation_generator = validation_datagen.flow_from_directory(\n",
        "        'split/val/',\n",
        "        target_size=(128, 128),\n",
        "        batch_size=8,\n",
        "        class_mode='categorical',\n",
        "        seed=1000,\n",
        "        shuffle=False)\n",
        "\n",
        "test_generator = test_datagen.flow_from_directory(\n",
        "        'split/test/',\n",
        "        target_size=(128, 128),\n",
        "        batch_size=8,\n",
        "        seed=500,\n",
        "        class_mode='categorical',\n",
        "        shuffle=False)"
      ],
      "execution_count": null,
      "outputs": [
        {
          "output_type": "stream",
          "name": "stdout",
          "text": [
            "Found 120 images belonging to 3 classes.\n",
            "Found 15 images belonging to 3 classes.\n",
            "Found 15 images belonging to 3 classes.\n"
          ]
        }
      ]
    },
    {
      "cell_type": "markdown",
      "metadata": {
        "id": "ZqmlFmyitf8O"
      },
      "source": [
        "**7. Model Building**"
      ]
    },
    {
      "cell_type": "code",
      "metadata": {
        "id": "RrA7f0eKl4tH",
        "colab": {
          "base_uri": "https://localhost:8080/"
        },
        "outputId": "3ae02b2a-3686-4b87-e440-c772ae1355fa"
      },
      "source": [
        "from tensorflow import keras\n",
        "from tensorflow.keras import layers\n",
        "inputs = keras.Input(shape=(128, 128,3))\n",
        "x = layers.Flatten()(inputs)\n",
        "x = layers.Dense(32, activation=\"relu\")(x)\n",
        "x = layers.Dense(64, activation='relu')(x)\n",
        "outputs = layers.Dense(3, activation=\"softmax\")(x)\n",
        "model = keras.Model(inputs, outputs)\n",
        "model.summary()"
      ],
      "execution_count": null,
      "outputs": [
        {
          "output_type": "stream",
          "name": "stdout",
          "text": [
            "Model: \"model\"\n",
            "_________________________________________________________________\n",
            " Layer (type)                Output Shape              Param #   \n",
            "=================================================================\n",
            " input_1 (InputLayer)        [(None, 128, 128, 3)]     0         \n",
            "                                                                 \n",
            " flatten (Flatten)           (None, 49152)             0         \n",
            "                                                                 \n",
            " dense (Dense)               (None, 32)                1572896   \n",
            "                                                                 \n",
            " dense_1 (Dense)             (None, 64)                2112      \n",
            "                                                                 \n",
            " dense_2 (Dense)             (None, 3)                 195       \n",
            "                                                                 \n",
            "=================================================================\n",
            "Total params: 1,575,203\n",
            "Trainable params: 1,575,203\n",
            "Non-trainable params: 0\n",
            "_________________________________________________________________\n"
          ]
        }
      ]
    },
    {
      "cell_type": "markdown",
      "metadata": {
        "id": "_437haxhtjFa"
      },
      "source": [
        "**8. Model Compilation and Training**"
      ]
    },
    {
      "cell_type": "code",
      "metadata": {
        "id": "DixxjVJelrcg",
        "colab": {
          "base_uri": "https://localhost:8080/"
        },
        "outputId": "c21fe681-f512-481f-ec94-582a105aa5e3"
      },
      "source": [
        "from tensorflow.keras.optimizers import Adam\n",
        "\n",
        "adam = Adam(learning_rate=0.0001)\n",
        "# We are going to use accuracy metrics and cross entropy loss as performance parameters\n",
        "model.compile(adam, loss='categorical_crossentropy', metrics=['acc'])\n",
        "# Train the model \n",
        "history = model.fit(train_generator, \n",
        "      steps_per_epoch=train_generator.samples/train_generator.batch_size,\n",
        "      epochs=100,\n",
        "      validation_data=validation_generator,\n",
        "      validation_steps=validation_generator.samples/validation_generator.batch_size,\n",
        "      verbose=1)"
      ],
      "execution_count": null,
      "outputs": [
        {
          "output_type": "stream",
          "name": "stdout",
          "text": [
            "Epoch 1/100\n",
            "15/15 [==============================] - 3s 44ms/step - loss: 1.2142 - acc: 0.4000 - val_loss: 1.1114 - val_acc: 0.4000\n",
            "Epoch 2/100\n",
            "15/15 [==============================] - 1s 34ms/step - loss: 0.9641 - acc: 0.4583 - val_loss: 0.8640 - val_acc: 0.6667\n",
            "Epoch 3/100\n",
            "15/15 [==============================] - 1s 34ms/step - loss: 0.8505 - acc: 0.5333 - val_loss: 0.7623 - val_acc: 0.6000\n",
            "Epoch 4/100\n",
            "15/15 [==============================] - 1s 35ms/step - loss: 0.7039 - acc: 0.7167 - val_loss: 0.6342 - val_acc: 0.8000\n",
            "Epoch 5/100\n",
            "15/15 [==============================] - 1s 34ms/step - loss: 0.6236 - acc: 0.7583 - val_loss: 0.5707 - val_acc: 0.8667\n",
            "Epoch 6/100\n",
            "15/15 [==============================] - 1s 34ms/step - loss: 0.5743 - acc: 0.8083 - val_loss: 0.7684 - val_acc: 0.5333\n",
            "Epoch 7/100\n",
            "15/15 [==============================] - 1s 35ms/step - loss: 0.6733 - acc: 0.7500 - val_loss: 0.5283 - val_acc: 0.9333\n",
            "Epoch 8/100\n",
            "15/15 [==============================] - 1s 43ms/step - loss: 0.5677 - acc: 0.7417 - val_loss: 0.6020 - val_acc: 0.7333\n",
            "Epoch 9/100\n",
            "15/15 [==============================] - 1s 36ms/step - loss: 0.5730 - acc: 0.7583 - val_loss: 0.4826 - val_acc: 0.8667\n",
            "Epoch 10/100\n",
            "15/15 [==============================] - 1s 35ms/step - loss: 0.5990 - acc: 0.7667 - val_loss: 0.5529 - val_acc: 0.8000\n",
            "Epoch 11/100\n",
            "15/15 [==============================] - 1s 35ms/step - loss: 0.6172 - acc: 0.7333 - val_loss: 0.6661 - val_acc: 0.6000\n",
            "Epoch 12/100\n",
            "15/15 [==============================] - 1s 34ms/step - loss: 0.5355 - acc: 0.7917 - val_loss: 0.4880 - val_acc: 0.8667\n",
            "Epoch 13/100\n",
            "15/15 [==============================] - 1s 35ms/step - loss: 0.5491 - acc: 0.7000 - val_loss: 0.6215 - val_acc: 0.6667\n",
            "Epoch 14/100\n",
            "15/15 [==============================] - 1s 34ms/step - loss: 0.4707 - acc: 0.8417 - val_loss: 0.5577 - val_acc: 0.6667\n",
            "Epoch 15/100\n",
            "15/15 [==============================] - 1s 35ms/step - loss: 0.4603 - acc: 0.8000 - val_loss: 0.4164 - val_acc: 0.9333\n",
            "Epoch 16/100\n",
            "15/15 [==============================] - 1s 34ms/step - loss: 0.4088 - acc: 0.8333 - val_loss: 0.6241 - val_acc: 0.7333\n",
            "Epoch 17/100\n",
            "15/15 [==============================] - 1s 35ms/step - loss: 0.4083 - acc: 0.8417 - val_loss: 0.3975 - val_acc: 0.8667\n",
            "Epoch 18/100\n",
            "15/15 [==============================] - 1s 34ms/step - loss: 0.3883 - acc: 0.8583 - val_loss: 0.4276 - val_acc: 0.8667\n",
            "Epoch 19/100\n",
            "15/15 [==============================] - 1s 35ms/step - loss: 0.3762 - acc: 0.8917 - val_loss: 0.4917 - val_acc: 0.7333\n",
            "Epoch 20/100\n",
            "15/15 [==============================] - 1s 34ms/step - loss: 0.3916 - acc: 0.8583 - val_loss: 0.4231 - val_acc: 0.8000\n",
            "Epoch 21/100\n",
            "15/15 [==============================] - 1s 34ms/step - loss: 0.4286 - acc: 0.8167 - val_loss: 0.4224 - val_acc: 0.8667\n",
            "Epoch 22/100\n",
            "15/15 [==============================] - 1s 36ms/step - loss: 0.3374 - acc: 0.8833 - val_loss: 0.3930 - val_acc: 0.8667\n",
            "Epoch 23/100\n",
            "15/15 [==============================] - 1s 34ms/step - loss: 0.3294 - acc: 0.9167 - val_loss: 0.4713 - val_acc: 0.7333\n",
            "Epoch 24/100\n",
            "15/15 [==============================] - 1s 36ms/step - loss: 0.3419 - acc: 0.8500 - val_loss: 0.4089 - val_acc: 0.8667\n",
            "Epoch 25/100\n",
            "15/15 [==============================] - 1s 34ms/step - loss: 0.3061 - acc: 0.8917 - val_loss: 0.3820 - val_acc: 0.9333\n",
            "Epoch 26/100\n",
            "15/15 [==============================] - 1s 34ms/step - loss: 0.2886 - acc: 0.9083 - val_loss: 0.4884 - val_acc: 0.6667\n",
            "Epoch 27/100\n",
            "15/15 [==============================] - 1s 34ms/step - loss: 0.2865 - acc: 0.9083 - val_loss: 0.4200 - val_acc: 0.8667\n",
            "Epoch 28/100\n",
            "15/15 [==============================] - 1s 36ms/step - loss: 0.3014 - acc: 0.8917 - val_loss: 0.3844 - val_acc: 0.8667\n",
            "Epoch 29/100\n",
            "15/15 [==============================] - 1s 34ms/step - loss: 0.3017 - acc: 0.9000 - val_loss: 0.3862 - val_acc: 0.8667\n",
            "Epoch 30/100\n",
            "15/15 [==============================] - 1s 34ms/step - loss: 0.2937 - acc: 0.9167 - val_loss: 0.3868 - val_acc: 0.8000\n",
            "Epoch 31/100\n",
            "15/15 [==============================] - 1s 34ms/step - loss: 0.2606 - acc: 0.9167 - val_loss: 0.5761 - val_acc: 0.6000\n",
            "Epoch 32/100\n",
            "15/15 [==============================] - 1s 34ms/step - loss: 0.2838 - acc: 0.9083 - val_loss: 0.4025 - val_acc: 0.8667\n",
            "Epoch 33/100\n",
            "15/15 [==============================] - 1s 34ms/step - loss: 0.2481 - acc: 0.9500 - val_loss: 0.3743 - val_acc: 0.8667\n",
            "Epoch 34/100\n",
            "15/15 [==============================] - 1s 34ms/step - loss: 0.2565 - acc: 0.9167 - val_loss: 0.4105 - val_acc: 0.8000\n",
            "Epoch 35/100\n",
            "15/15 [==============================] - 1s 34ms/step - loss: 0.2363 - acc: 0.9417 - val_loss: 0.3703 - val_acc: 0.8667\n",
            "Epoch 36/100\n",
            "15/15 [==============================] - 1s 35ms/step - loss: 0.2454 - acc: 0.9333 - val_loss: 0.3497 - val_acc: 0.9333\n",
            "Epoch 37/100\n",
            "15/15 [==============================] - 1s 35ms/step - loss: 0.2458 - acc: 0.9000 - val_loss: 0.4450 - val_acc: 0.8000\n",
            "Epoch 38/100\n",
            "15/15 [==============================] - 1s 34ms/step - loss: 0.2212 - acc: 0.9583 - val_loss: 0.3621 - val_acc: 0.8667\n",
            "Epoch 39/100\n",
            "15/15 [==============================] - 1s 34ms/step - loss: 0.2212 - acc: 0.9500 - val_loss: 0.3298 - val_acc: 0.9333\n",
            "Epoch 40/100\n",
            "15/15 [==============================] - 1s 34ms/step - loss: 0.2600 - acc: 0.9000 - val_loss: 0.4813 - val_acc: 0.7333\n",
            "Epoch 41/100\n",
            "15/15 [==============================] - 1s 34ms/step - loss: 0.1937 - acc: 0.9667 - val_loss: 0.3761 - val_acc: 0.8667\n",
            "Epoch 42/100\n",
            "15/15 [==============================] - 1s 34ms/step - loss: 0.2005 - acc: 0.9500 - val_loss: 0.4126 - val_acc: 0.8000\n",
            "Epoch 43/100\n",
            "15/15 [==============================] - 1s 34ms/step - loss: 0.1877 - acc: 0.9667 - val_loss: 0.3921 - val_acc: 0.8667\n",
            "Epoch 44/100\n",
            "15/15 [==============================] - 1s 34ms/step - loss: 0.1928 - acc: 0.9667 - val_loss: 0.3312 - val_acc: 0.8667\n",
            "Epoch 45/100\n",
            "15/15 [==============================] - 1s 35ms/step - loss: 0.1874 - acc: 0.9750 - val_loss: 0.3612 - val_acc: 0.8000\n",
            "Epoch 46/100\n",
            "15/15 [==============================] - 1s 35ms/step - loss: 0.1859 - acc: 0.9583 - val_loss: 0.3671 - val_acc: 0.8000\n",
            "Epoch 47/100\n",
            "15/15 [==============================] - 1s 35ms/step - loss: 0.1717 - acc: 0.9667 - val_loss: 0.3714 - val_acc: 0.8667\n",
            "Epoch 48/100\n",
            "15/15 [==============================] - 1s 34ms/step - loss: 0.1590 - acc: 0.9667 - val_loss: 0.3703 - val_acc: 0.8667\n",
            "Epoch 49/100\n",
            "15/15 [==============================] - 1s 35ms/step - loss: 0.1581 - acc: 0.9833 - val_loss: 0.3421 - val_acc: 0.8667\n",
            "Epoch 50/100\n",
            "15/15 [==============================] - 1s 34ms/step - loss: 0.2178 - acc: 0.9000 - val_loss: 0.5193 - val_acc: 0.8667\n",
            "Epoch 51/100\n",
            "15/15 [==============================] - 1s 34ms/step - loss: 0.1999 - acc: 0.9250 - val_loss: 0.7071 - val_acc: 0.6667\n",
            "Epoch 52/100\n",
            "15/15 [==============================] - 1s 34ms/step - loss: 0.3100 - acc: 0.8667 - val_loss: 0.6737 - val_acc: 0.6667\n",
            "Epoch 53/100\n",
            "15/15 [==============================] - 1s 33ms/step - loss: 0.1952 - acc: 0.9250 - val_loss: 0.3358 - val_acc: 0.8667\n",
            "Epoch 54/100\n",
            "15/15 [==============================] - 1s 34ms/step - loss: 0.1433 - acc: 0.9667 - val_loss: 0.3445 - val_acc: 0.8667\n",
            "Epoch 55/100\n",
            "15/15 [==============================] - 1s 34ms/step - loss: 0.1462 - acc: 0.9750 - val_loss: 0.3720 - val_acc: 0.8667\n",
            "Epoch 56/100\n",
            "15/15 [==============================] - 1s 35ms/step - loss: 0.1467 - acc: 0.9667 - val_loss: 0.4691 - val_acc: 0.8000\n",
            "Epoch 57/100\n",
            "15/15 [==============================] - 1s 34ms/step - loss: 0.1510 - acc: 0.9750 - val_loss: 0.4718 - val_acc: 0.8000\n",
            "Epoch 58/100\n",
            "15/15 [==============================] - 1s 36ms/step - loss: 0.1613 - acc: 0.9583 - val_loss: 0.3613 - val_acc: 0.8667\n",
            "Epoch 59/100\n",
            "15/15 [==============================] - 1s 34ms/step - loss: 0.1607 - acc: 0.9500 - val_loss: 0.3059 - val_acc: 0.8667\n",
            "Epoch 60/100\n",
            "15/15 [==============================] - 1s 33ms/step - loss: 0.1190 - acc: 0.9750 - val_loss: 0.4350 - val_acc: 0.8000\n",
            "Epoch 61/100\n",
            "15/15 [==============================] - 1s 34ms/step - loss: 0.1218 - acc: 0.9750 - val_loss: 0.3608 - val_acc: 0.8667\n",
            "Epoch 62/100\n",
            "15/15 [==============================] - 1s 35ms/step - loss: 0.1262 - acc: 0.9750 - val_loss: 0.3439 - val_acc: 0.8667\n",
            "Epoch 63/100\n",
            "15/15 [==============================] - 1s 35ms/step - loss: 0.1306 - acc: 0.9667 - val_loss: 0.3461 - val_acc: 0.8667\n",
            "Epoch 64/100\n",
            "15/15 [==============================] - 1s 34ms/step - loss: 0.1150 - acc: 0.9750 - val_loss: 0.3495 - val_acc: 0.8667\n",
            "Epoch 65/100\n",
            "15/15 [==============================] - 1s 36ms/step - loss: 0.1140 - acc: 0.9917 - val_loss: 0.4348 - val_acc: 0.8000\n",
            "Epoch 66/100\n",
            "15/15 [==============================] - 1s 35ms/step - loss: 0.1115 - acc: 0.9917 - val_loss: 0.5514 - val_acc: 0.7333\n",
            "Epoch 67/100\n",
            "15/15 [==============================] - 1s 34ms/step - loss: 0.1235 - acc: 0.9833 - val_loss: 0.3732 - val_acc: 0.8667\n",
            "Epoch 68/100\n",
            "15/15 [==============================] - 1s 34ms/step - loss: 0.1067 - acc: 0.9750 - val_loss: 0.3193 - val_acc: 0.8667\n",
            "Epoch 69/100\n",
            "15/15 [==============================] - 1s 34ms/step - loss: 0.1367 - acc: 0.9667 - val_loss: 0.5043 - val_acc: 0.7333\n",
            "Epoch 70/100\n",
            "15/15 [==============================] - 1s 34ms/step - loss: 0.1026 - acc: 0.9917 - val_loss: 0.3917 - val_acc: 0.8667\n",
            "Epoch 71/100\n",
            "15/15 [==============================] - 1s 34ms/step - loss: 0.0921 - acc: 0.9917 - val_loss: 0.4248 - val_acc: 0.8000\n",
            "Epoch 72/100\n",
            "15/15 [==============================] - 1s 33ms/step - loss: 0.1039 - acc: 0.9667 - val_loss: 0.3689 - val_acc: 0.8667\n",
            "Epoch 73/100\n",
            "15/15 [==============================] - 1s 34ms/step - loss: 0.1068 - acc: 0.9667 - val_loss: 0.3545 - val_acc: 0.8667\n",
            "Epoch 74/100\n",
            "15/15 [==============================] - 1s 34ms/step - loss: 0.0839 - acc: 1.0000 - val_loss: 0.3753 - val_acc: 0.8667\n",
            "Epoch 75/100\n",
            "15/15 [==============================] - 1s 35ms/step - loss: 0.0828 - acc: 0.9833 - val_loss: 0.3244 - val_acc: 0.8667\n",
            "Epoch 76/100\n",
            "15/15 [==============================] - 1s 34ms/step - loss: 0.0831 - acc: 1.0000 - val_loss: 0.4478 - val_acc: 0.8000\n",
            "Epoch 77/100\n",
            "15/15 [==============================] - 1s 34ms/step - loss: 0.0813 - acc: 0.9917 - val_loss: 0.3546 - val_acc: 0.8000\n",
            "Epoch 78/100\n",
            "15/15 [==============================] - 1s 34ms/step - loss: 0.0940 - acc: 0.9833 - val_loss: 0.3833 - val_acc: 0.6667\n",
            "Epoch 79/100\n",
            "15/15 [==============================] - 1s 34ms/step - loss: 0.0996 - acc: 0.9833 - val_loss: 0.3783 - val_acc: 0.8667\n",
            "Epoch 80/100\n",
            "15/15 [==============================] - 1s 33ms/step - loss: 0.0689 - acc: 1.0000 - val_loss: 0.3974 - val_acc: 0.8667\n",
            "Epoch 81/100\n",
            "15/15 [==============================] - 1s 34ms/step - loss: 0.0701 - acc: 1.0000 - val_loss: 0.3997 - val_acc: 0.8000\n",
            "Epoch 82/100\n",
            "15/15 [==============================] - 1s 34ms/step - loss: 0.0837 - acc: 1.0000 - val_loss: 0.3569 - val_acc: 0.8667\n",
            "Epoch 83/100\n",
            "15/15 [==============================] - 1s 35ms/step - loss: 0.0825 - acc: 0.9917 - val_loss: 0.4369 - val_acc: 0.8000\n",
            "Epoch 84/100\n",
            "15/15 [==============================] - 1s 33ms/step - loss: 0.0846 - acc: 0.9917 - val_loss: 0.4210 - val_acc: 0.8000\n",
            "Epoch 85/100\n",
            "15/15 [==============================] - 1s 34ms/step - loss: 0.0654 - acc: 1.0000 - val_loss: 0.5353 - val_acc: 0.8000\n",
            "Epoch 86/100\n",
            "15/15 [==============================] - 1s 35ms/step - loss: 0.0755 - acc: 0.9833 - val_loss: 0.3816 - val_acc: 0.8667\n",
            "Epoch 87/100\n",
            "15/15 [==============================] - 1s 35ms/step - loss: 0.0721 - acc: 0.9917 - val_loss: 0.5530 - val_acc: 0.7333\n",
            "Epoch 88/100\n",
            "15/15 [==============================] - 1s 33ms/step - loss: 0.1159 - acc: 0.9500 - val_loss: 0.3723 - val_acc: 0.8667\n",
            "Epoch 89/100\n",
            "15/15 [==============================] - 1s 34ms/step - loss: 0.1304 - acc: 0.9500 - val_loss: 0.3453 - val_acc: 0.9333\n",
            "Epoch 90/100\n",
            "15/15 [==============================] - 1s 34ms/step - loss: 0.1061 - acc: 0.9833 - val_loss: 0.4647 - val_acc: 0.8000\n",
            "Epoch 91/100\n",
            "15/15 [==============================] - 1s 34ms/step - loss: 0.0794 - acc: 0.9917 - val_loss: 0.3889 - val_acc: 0.8000\n",
            "Epoch 92/100\n",
            "15/15 [==============================] - 1s 35ms/step - loss: 0.0542 - acc: 1.0000 - val_loss: 0.3446 - val_acc: 0.8667\n",
            "Epoch 93/100\n",
            "15/15 [==============================] - 1s 34ms/step - loss: 0.0591 - acc: 1.0000 - val_loss: 0.3375 - val_acc: 0.8667\n",
            "Epoch 94/100\n",
            "15/15 [==============================] - 1s 35ms/step - loss: 0.0605 - acc: 0.9917 - val_loss: 0.4537 - val_acc: 0.8667\n",
            "Epoch 95/100\n",
            "15/15 [==============================] - 1s 34ms/step - loss: 0.0564 - acc: 1.0000 - val_loss: 0.4309 - val_acc: 0.8000\n",
            "Epoch 96/100\n",
            "15/15 [==============================] - 1s 34ms/step - loss: 0.0618 - acc: 0.9917 - val_loss: 0.5593 - val_acc: 0.7333\n",
            "Epoch 97/100\n",
            "15/15 [==============================] - 1s 33ms/step - loss: 0.0640 - acc: 0.9833 - val_loss: 0.3384 - val_acc: 0.8000\n",
            "Epoch 98/100\n",
            "15/15 [==============================] - 1s 35ms/step - loss: 0.0623 - acc: 0.9917 - val_loss: 0.4138 - val_acc: 0.8000\n",
            "Epoch 99/100\n",
            "15/15 [==============================] - 1s 34ms/step - loss: 0.0602 - acc: 0.9917 - val_loss: 0.4003 - val_acc: 0.8000\n",
            "Epoch 100/100\n",
            "15/15 [==============================] - 1s 35ms/step - loss: 0.0531 - acc: 1.0000 - val_loss: 0.5423 - val_acc: 0.8000\n"
          ]
        }
      ]
    },
    {
      "cell_type": "markdown",
      "metadata": {
        "id": "7h2kqqa0tpx9"
      },
      "source": [
        "**9. Model saving**"
      ]
    },
    {
      "cell_type": "code",
      "metadata": {
        "id": "AMlZWxBhnfjh"
      },
      "source": [
        "model.save('covid_classification.h5')"
      ],
      "execution_count": null,
      "outputs": []
    },
    {
      "cell_type": "markdown",
      "metadata": {
        "id": "v64VrifGtsSn"
      },
      "source": [
        "**10. Model loading**"
      ]
    },
    {
      "cell_type": "code",
      "metadata": {
        "id": "h5kAXwzBoIzp"
      },
      "source": [
        "from tensorflow.keras import models\n",
        "model = models.load_model('covid_classification.h5')"
      ],
      "execution_count": null,
      "outputs": []
    },
    {
      "cell_type": "markdown",
      "metadata": {
        "id": "EuGiWfjQtvDq"
      },
      "source": [
        "**11. Model weights saving**"
      ]
    },
    {
      "cell_type": "code",
      "metadata": {
        "id": "brmKRhGtoZVA"
      },
      "source": [
        "model.save_weights('covid_classification_weights.h5')"
      ],
      "execution_count": null,
      "outputs": []
    },
    {
      "cell_type": "markdown",
      "metadata": {
        "id": "g_mHfakptxUF"
      },
      "source": [
        "**12. Model weights loading**"
      ]
    },
    {
      "cell_type": "code",
      "metadata": {
        "id": "Oc3YG_vioL9a"
      },
      "source": [
        "model.load_weights('covid_classification_weights.h5')"
      ],
      "execution_count": null,
      "outputs": []
    },
    {
      "cell_type": "markdown",
      "metadata": {
        "id": "YJhgz0AAtzcm"
      },
      "source": [
        "**13. Plotting accuracy and loss graph for training and validation dataset**"
      ]
    },
    {
      "cell_type": "code",
      "metadata": {
        "id": "lKLbBshSocU6"
      },
      "source": [
        "train_acc = history.history['acc']\n",
        "val_acc = history.history['val_acc']\n",
        "train_loss = history.history['loss']\n",
        "val_loss = history.history['val_loss']"
      ],
      "execution_count": null,
      "outputs": []
    },
    {
      "cell_type": "code",
      "metadata": {
        "id": "BfqOqEpVogvN",
        "colab": {
          "base_uri": "https://localhost:8080/",
          "height": 562
        },
        "outputId": "c113e4e9-48d1-43e8-f8e2-5204ccf5e934"
      },
      "source": [
        "import matplotlib.pyplot as plt\n",
        "epochs = range(len(train_acc)) \n",
        "plt.plot(epochs, train_acc, 'b', label='Training Accuracy')\n",
        "plt.plot(epochs, val_acc, 'r', label='Validation Accuracy')\n",
        "plt.title('Training and Validation Accuracy')\n",
        "plt.legend()\n",
        "plt.figure()\n",
        "plt.show()\n",
        "\n",
        "plt.plot(epochs, train_loss, 'b', label='Training Loss')\n",
        "plt.plot(epochs, val_loss, 'r', label='Validation Loss')\n",
        "plt.title('Training and Validation Loss')\n",
        "plt.legend()\n",
        "plt.show()\n"
      ],
      "execution_count": null,
      "outputs": [
        {
          "output_type": "display_data",
          "data": {
            "text/plain": [
              "<Figure size 432x288 with 1 Axes>"
            ],
            "image/png": "[encoded data removed]"
          },
          "metadata": {
            "needs_background": "light"
          }
        },
        {
          "output_type": "display_data",
          "data": {
            "text/plain": [
              "<Figure size 432x288 with 0 Axes>"
            ]
          },
          "metadata": {}
        },
        {
          "output_type": "display_data",
          "data": {
            "text/plain": [
              "<Figure size 432x288 with 1 Axes>"
            ],
            "image/png": "[encoded data removed]"
          },
          "metadata": {
            "needs_background": "light"
          }
        }
      ]
    },
    {
      "cell_type": "markdown",
      "metadata": {
        "id": "LoVhONtnt3sq"
      },
      "source": [
        "**14. Evaluate model performance on test dataset**"
      ]
    },
    {
      "cell_type": "code",
      "metadata": {
        "id": "dxXMTffHoiVy",
        "colab": {
          "base_uri": "https://localhost:8080/"
        },
        "outputId": "69f098f5-107a-4ad9-a5e4-665f21d2f856"
      },
      "source": [
        "test_output= model.evaluate(test_generator, steps=test_generator.samples/test_generator.batch_size, verbose=1)\n",
        "print(test_output)\n",
        "print(model.metrics_names)"
      ],
      "execution_count": null,
      "outputs": [
        {
          "output_type": "stream",
          "name": "stdout",
          "text": [
            "1/1 [==============================] - 0s 29ms/step - loss: 0.9419 - acc: 0.8000\n",
            "[0.9419088363647461, 0.800000011920929]\n",
            "['loss', 'acc']\n"
          ]
        }
      ]
    },
    {
      "cell_type": "markdown",
      "metadata": {
        "id": "inzAGua1o1we"
      },
      "source": [
        "References:\n",
        "\n",
        "1. https://pypi.org/project/split-folders/\n",
        "2. https://keras.io/"
      ]
    }
  ]
}