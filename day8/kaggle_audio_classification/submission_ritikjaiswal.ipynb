{
  "metadata": {
    "kernelspec": {
      "language": "python",
      "display_name": "Python 3",
      "name": "python3"
    },
    "language_info": {
      "name": "python",
      "version": "3.7.12",
      "mimetype": "text/x-python",
      "codemirror_mode": {
        "name": "ipython",
        "version": 3
      },
      "pygments_lexer": "ipython3",
      "nbconvert_exporter": "python",
      "file_extension": ".py"
    },
    "colab": {
      "name": "submission-ritikjaiswal.ipynb",
      "provenance": [],
      "include_colab_link": true
    }
  },
  "nbformat_minor": 0,
  "nbformat": 4,
  "cells": [
    {
      "cell_type": "markdown",
      "metadata": {
        "id": "view-in-github",
        "colab_type": "text"
      },
      "source": [
        "<a href=\"https://colab.research.google.com/github/umeshtiwari233/ML_Summer_training/blob/main/day8/kaggle_audio_classification/submission_ritikjaiswal.ipynb\" target=\"_parent\"><img src=\"https://colab.research.google.com/assets/colab-badge.svg\" alt=\"Open In Colab\"/></a>"
      ]
    },
    {
      "cell_type": "code",
      "source": [
        "# This Python 3 environment comes with many helpful analytics libraries installed\n",
        "# It is defined by the kaggle/python Docker image: https://github.com/kaggle/docker-python\n",
        "# For example, here's several helpful packages to load\n",
        "\n",
        "import numpy as np # linear algebra\n",
        "import pandas as pd # data processing, CSV file I/O (e.g. pd.read_csv)\n",
        "\n",
        "# Input data files are available in the read-only \"../input/\" directory\n",
        "# For example, running this (by clicking run or pressing Shift+Enter) will list all files under the input directory\n",
        "\n",
        "import os\n",
        "for dirname, _, filenames in os.walk('/kaggle/input'):\n",
        "    for filename in filenames:\n",
        "        print(os.path.join(dirname, filename))\n",
        "\n",
        "# You can write up to 20GB to the current directory (/kaggle/working/) that gets preserved as output when you create a version using \"Save & Run All\" \n",
        "# You can also write temporary files to /kaggle/temp/, but they won't be saved outside of the current session"
      ],
      "metadata": {
        "_uuid": "8f2839f25d086af736a60e9eeb907d3b93b6e0e5",
        "_cell_guid": "b1076dfc-b9ad-4769-8c92-a6c4dae69d19",
        "execution": {
          "iopub.status.busy": "2022-06-29T05:47:08.093611Z",
          "iopub.execute_input": "2022-06-29T05:47:08.094055Z",
          "iopub.status.idle": "2022-06-29T05:47:09.156352Z",
          "shell.execute_reply.started": "2022-06-29T05:47:08.093967Z",
          "shell.execute_reply": "2022-06-29T05:47:09.154709Z"
        },
        "trusted": true,
        "id": "-0LasBDkTfTy"
      },
      "execution_count": null,
      "outputs": []
    },
    {
      "cell_type": "code",
      "source": [
        "!pip install librosa"
      ],
      "metadata": {
        "execution": {
          "iopub.status.busy": "2022-06-29T05:48:19.649367Z",
          "iopub.execute_input": "2022-06-29T05:48:19.649805Z",
          "iopub.status.idle": "2022-06-29T05:48:32.451199Z",
          "shell.execute_reply.started": "2022-06-29T05:48:19.649770Z",
          "shell.execute_reply": "2022-06-29T05:48:32.449807Z"
        },
        "trusted": true,
        "id": "kspplptzTfT1"
      },
      "execution_count": null,
      "outputs": []
    },
    {
      "cell_type": "code",
      "source": [
        "import matplotlib.pyplot as plt\n",
        "%matplotlib inline"
      ],
      "metadata": {
        "execution": {
          "iopub.status.busy": "2022-06-29T05:49:12.509072Z",
          "iopub.execute_input": "2022-06-29T05:49:12.510152Z",
          "iopub.status.idle": "2022-06-29T05:49:12.516645Z",
          "shell.execute_reply.started": "2022-06-29T05:49:12.510100Z",
          "shell.execute_reply": "2022-06-29T05:49:12.515314Z"
        },
        "trusted": true,
        "id": "yj81NUfaTfT2"
      },
      "execution_count": null,
      "outputs": []
    },
    {
      "cell_type": "code",
      "source": [
        "filename='../input/urbansound8k/fold3/102105-3-0-0.wav'"
      ],
      "metadata": {
        "execution": {
          "iopub.status.busy": "2022-06-29T05:49:33.784795Z",
          "iopub.execute_input": "2022-06-29T05:49:33.785318Z",
          "iopub.status.idle": "2022-06-29T05:49:33.791574Z",
          "shell.execute_reply.started": "2022-06-29T05:49:33.785272Z",
          "shell.execute_reply": "2022-06-29T05:49:33.790417Z"
        },
        "trusted": true,
        "id": "l9W4eL8VTfT3"
      },
      "execution_count": null,
      "outputs": []
    },
    {
      "cell_type": "code",
      "source": [
        "import IPython.display as ipd\n",
        "import librosa\n",
        "import librosa.display"
      ],
      "metadata": {
        "execution": {
          "iopub.status.busy": "2022-06-29T05:51:02.160507Z",
          "iopub.execute_input": "2022-06-29T05:51:02.160938Z",
          "iopub.status.idle": "2022-06-29T05:51:02.167831Z",
          "shell.execute_reply.started": "2022-06-29T05:51:02.160901Z",
          "shell.execute_reply": "2022-06-29T05:51:02.166256Z"
        },
        "trusted": true,
        "id": "wBh0Z7M7TfT4"
      },
      "execution_count": null,
      "outputs": []
    },
    {
      "cell_type": "code",
      "source": [
        "## Dog Sound\n",
        "plt.figure(figsize=(14,5))\n",
        "import librosa\n",
        "audio_file_path='../input/urbansound8k/fold7/101848-9-0-0.wav'\n",
        "librosa_audio_data,librosa_sample_rate=librosa.load(audio_file_path)"
      ],
      "metadata": {
        "execution": {
          "iopub.status.busy": "2022-06-29T05:51:47.719659Z",
          "iopub.execute_input": "2022-06-29T05:51:47.720164Z",
          "iopub.status.idle": "2022-06-29T05:51:48.832335Z",
          "shell.execute_reply.started": "2022-06-29T05:51:47.720108Z",
          "shell.execute_reply": "2022-06-29T05:51:48.830934Z"
        },
        "trusted": true,
        "id": "_cux-9yATfT5"
      },
      "execution_count": null,
      "outputs": []
    },
    {
      "cell_type": "code",
      "source": [
        "### Sound\n",
        "filename='../input/urbansound8k/fold7/101848-9-0-1.wav'\n",
        "plt.figure(figsize=(14,5))\n",
        "data,sample_rate=librosa.load(filename)\n",
        "librosa.display.waveshow(data,sr=sample_rate)\n",
        "ipd.Audio(filename)"
      ],
      "metadata": {
        "execution": {
          "iopub.status.busy": "2022-06-29T05:52:01.089940Z",
          "iopub.execute_input": "2022-06-29T05:52:01.090332Z",
          "iopub.status.idle": "2022-06-29T05:52:01.874423Z",
          "shell.execute_reply.started": "2022-06-29T05:52:01.090300Z",
          "shell.execute_reply": "2022-06-29T05:52:01.873266Z"
        },
        "trusted": true,
        "id": "OVgFx__kTfT5"
      },
      "execution_count": null,
      "outputs": []
    },
    {
      "cell_type": "code",
      "source": [
        "sample_rate"
      ],
      "metadata": {
        "execution": {
          "iopub.status.busy": "2022-06-29T05:52:59.808915Z",
          "iopub.execute_input": "2022-06-29T05:52:59.809323Z",
          "iopub.status.idle": "2022-06-29T05:52:59.816371Z",
          "shell.execute_reply.started": "2022-06-29T05:52:59.809290Z",
          "shell.execute_reply": "2022-06-29T05:52:59.814939Z"
        },
        "trusted": true,
        "id": "nOIj_ITQTfT6"
      },
      "execution_count": null,
      "outputs": []
    },
    {
      "cell_type": "code",
      "source": [
        "from scipy.io import wavfile as wav\n",
        "wave_sample_rate, wave_audio=wav.read(filename)"
      ],
      "metadata": {
        "execution": {
          "iopub.status.busy": "2022-06-29T05:56:01.473554Z",
          "iopub.execute_input": "2022-06-29T05:56:01.473931Z",
          "iopub.status.idle": "2022-06-29T05:56:01.482936Z",
          "shell.execute_reply.started": "2022-06-29T05:56:01.473898Z",
          "shell.execute_reply": "2022-06-29T05:56:01.481917Z"
        },
        "trusted": true,
        "id": "x2OyVqviTfT7"
      },
      "execution_count": null,
      "outputs": []
    },
    {
      "cell_type": "code",
      "source": [
        "wave_sample_rate"
      ],
      "metadata": {
        "execution": {
          "iopub.status.busy": "2022-06-29T05:56:09.859526Z",
          "iopub.execute_input": "2022-06-29T05:56:09.859915Z",
          "iopub.status.idle": "2022-06-29T05:56:09.868372Z",
          "shell.execute_reply.started": "2022-06-29T05:56:09.859883Z",
          "shell.execute_reply": "2022-06-29T05:56:09.866805Z"
        },
        "trusted": true,
        "id": "YQIJ-a_rTfT9"
      },
      "execution_count": null,
      "outputs": []
    },
    {
      "cell_type": "code",
      "source": [
        "wave_audio"
      ],
      "metadata": {
        "execution": {
          "iopub.status.busy": "2022-06-29T05:56:27.450676Z",
          "iopub.execute_input": "2022-06-29T05:56:27.451105Z",
          "iopub.status.idle": "2022-06-29T05:56:27.461136Z",
          "shell.execute_reply.started": "2022-06-29T05:56:27.451071Z",
          "shell.execute_reply": "2022-06-29T05:56:27.459729Z"
        },
        "trusted": true,
        "id": "V-3pouZ6TfT-"
      },
      "execution_count": null,
      "outputs": []
    },
    {
      "cell_type": "code",
      "source": [
        "import matplotlib.pyplot as plt\n",
        "\n",
        "# Original audio with 2 channels \n",
        "plt.figure(figsize=(12, 4))\n",
        "plt.plot(wave_audio)"
      ],
      "metadata": {
        "execution": {
          "iopub.status.busy": "2022-06-29T05:56:39.281262Z",
          "iopub.execute_input": "2022-06-29T05:56:39.281699Z",
          "iopub.status.idle": "2022-06-29T05:56:39.632232Z",
          "shell.execute_reply.started": "2022-06-29T05:56:39.281661Z",
          "shell.execute_reply": "2022-06-29T05:56:39.631422Z"
        },
        "trusted": true,
        "id": "vM0BLABOTfT_"
      },
      "execution_count": null,
      "outputs": []
    },
    {
      "cell_type": "code",
      "source": [
        "data"
      ],
      "metadata": {
        "execution": {
          "iopub.status.busy": "2022-06-29T05:56:51.310890Z",
          "iopub.execute_input": "2022-06-29T05:56:51.311334Z",
          "iopub.status.idle": "2022-06-29T05:56:51.320386Z",
          "shell.execute_reply.started": "2022-06-29T05:56:51.311294Z",
          "shell.execute_reply": "2022-06-29T05:56:51.318616Z"
        },
        "trusted": true,
        "id": "2PI79JffTfUA"
      },
      "execution_count": null,
      "outputs": []
    },
    {
      "cell_type": "code",
      "source": [
        "import pandas as pd\n",
        "\n",
        "metadata=pd.read_csv('../input/urbansound8k/UrbanSound8K.csv')\n",
        "metadata.head(10)"
      ],
      "metadata": {
        "execution": {
          "iopub.status.busy": "2022-06-29T05:57:03.164203Z",
          "iopub.execute_input": "2022-06-29T05:57:03.164635Z",
          "iopub.status.idle": "2022-06-29T05:57:03.218018Z",
          "shell.execute_reply.started": "2022-06-29T05:57:03.164598Z",
          "shell.execute_reply": "2022-06-29T05:57:03.217025Z"
        },
        "trusted": true,
        "id": "0bno9K5JTfUA"
      },
      "execution_count": null,
      "outputs": []
    },
    {
      "cell_type": "code",
      "source": [
        "### Check whether the dataset is imbalanced\n",
        "metadata['class'].value_counts()"
      ],
      "metadata": {
        "execution": {
          "iopub.status.busy": "2022-06-29T05:57:18.389627Z",
          "iopub.execute_input": "2022-06-29T05:57:18.390690Z",
          "iopub.status.idle": "2022-06-29T05:57:18.406200Z",
          "shell.execute_reply.started": "2022-06-29T05:57:18.390644Z",
          "shell.execute_reply": "2022-06-29T05:57:18.405086Z"
        },
        "trusted": true,
        "id": "BE2dt2kuTfUA"
      },
      "execution_count": null,
      "outputs": []
    },
    {
      "cell_type": "code",
      "source": [
        "mfccs = librosa.feature.mfcc(y=librosa_audio_data, sr=librosa_sample_rate, n_mfcc=40)\n",
        "print(mfccs.shape)"
      ],
      "metadata": {
        "execution": {
          "iopub.status.busy": "2022-06-29T05:57:28.474470Z",
          "iopub.execute_input": "2022-06-29T05:57:28.474868Z",
          "iopub.status.idle": "2022-06-29T05:57:28.510607Z",
          "shell.execute_reply.started": "2022-06-29T05:57:28.474837Z",
          "shell.execute_reply": "2022-06-29T05:57:28.509217Z"
        },
        "trusted": true,
        "id": "FHarKBGaTfUB"
      },
      "execution_count": null,
      "outputs": []
    },
    {
      "cell_type": "code",
      "source": [
        "#### Extracting MFCC's For every audio file\n",
        "import pandas as pd\n",
        "import os\n",
        "import librosa\n",
        "\n",
        "audio_dataset_path='../input/urbansound8k/'\n",
        "metadata=pd.read_csv('../input/urbansound8k/UrbanSound8K.csv')\n",
        "metadata.head()"
      ],
      "metadata": {
        "execution": {
          "iopub.status.busy": "2022-06-29T05:58:32.697733Z",
          "iopub.execute_input": "2022-06-29T05:58:32.698238Z",
          "iopub.status.idle": "2022-06-29T05:58:32.744796Z",
          "shell.execute_reply.started": "2022-06-29T05:58:32.698193Z",
          "shell.execute_reply": "2022-06-29T05:58:32.743393Z"
        },
        "trusted": true,
        "id": "p-zIHArtTfUB"
      },
      "execution_count": null,
      "outputs": []
    },
    {
      "cell_type": "code",
      "source": [
        "def features_extractor(file):\n",
        "    audio, sample_rate = librosa.load(file, res_type='kaiser_fast') \n",
        "    mfccs_features = librosa.feature.mfcc(y=audio, sr=sample_rate, n_mfcc=40)\n",
        "    mfccs_scaled_features = np.mean(mfccs_features.T,axis=0)\n",
        "    \n",
        "    return mfccs_scaled_features\n",
        "    "
      ],
      "metadata": {
        "execution": {
          "iopub.status.busy": "2022-06-29T06:15:16.274525Z",
          "iopub.execute_input": "2022-06-29T06:15:16.274979Z",
          "iopub.status.idle": "2022-06-29T06:15:16.282975Z",
          "shell.execute_reply.started": "2022-06-29T06:15:16.274945Z",
          "shell.execute_reply": "2022-06-29T06:15:16.281411Z"
        },
        "trusted": true,
        "id": "SuCQJ3hVTfUC"
      },
      "execution_count": null,
      "outputs": []
    },
    {
      "cell_type": "code",
      "source": [
        "import numpy as np\n",
        "from tqdm import tqdm\n",
        "### Now we iterate through every audio file and extract features \n",
        "### using Mel-Frequency Cepstral Coefficients\n",
        "extracted_features=[]\n",
        "for index_num,row in tqdm(metadata.iterrows()):\n",
        "    file_name = os.path.join(os.path.abspath(audio_dataset_path),'fold'+str(row[\"fold\"])+'/',str(row[\"slice_file_name\"]))\n",
        "    final_class_labels=row[\"class\"]\n",
        "    data=features_extractor(file_name)\n",
        "    extracted_features.append([data,final_class_labels])"
      ],
      "metadata": {
        "execution": {
          "iopub.status.busy": "2022-06-29T06:15:20.975161Z",
          "iopub.execute_input": "2022-06-29T06:15:20.976168Z",
          "iopub.status.idle": "2022-06-29T06:32:07.667914Z",
          "shell.execute_reply.started": "2022-06-29T06:15:20.976111Z",
          "shell.execute_reply": "2022-06-29T06:32:07.666145Z"
        },
        "trusted": true,
        "id": "mRR-cDxETfUC"
      },
      "execution_count": null,
      "outputs": []
    },
    {
      "cell_type": "code",
      "source": [
        "### converting extracted_features to Pandas dataframe\n",
        "extracted_features_df=pd.DataFrame(extracted_features,columns=['feature','class'])\n",
        "extracted_features_df.head()"
      ],
      "metadata": {
        "execution": {
          "iopub.status.busy": "2022-06-29T06:33:45.273933Z",
          "iopub.execute_input": "2022-06-29T06:33:45.274378Z",
          "iopub.status.idle": "2022-06-29T06:33:45.303336Z",
          "shell.execute_reply.started": "2022-06-29T06:33:45.274334Z",
          "shell.execute_reply": "2022-06-29T06:33:45.301996Z"
        },
        "trusted": true,
        "id": "_QeYgcSiTfUD"
      },
      "execution_count": null,
      "outputs": []
    },
    {
      "cell_type": "code",
      "source": [
        "### Split the dataset into independent and dependent dataset\n",
        "X=np.array(extracted_features_df['feature'].tolist())\n",
        "y=np.array(extracted_features_df['class'].tolist())"
      ],
      "metadata": {
        "execution": {
          "iopub.status.busy": "2022-06-29T06:36:08.613896Z",
          "iopub.execute_input": "2022-06-29T06:36:08.614333Z",
          "iopub.status.idle": "2022-06-29T06:36:08.629139Z",
          "shell.execute_reply.started": "2022-06-29T06:36:08.614294Z",
          "shell.execute_reply": "2022-06-29T06:36:08.627699Z"
        },
        "trusted": true,
        "id": "Ni7v-_NbTfUD"
      },
      "execution_count": null,
      "outputs": []
    },
    {
      "cell_type": "code",
      "source": [
        "X.shape"
      ],
      "metadata": {
        "execution": {
          "iopub.status.busy": "2022-06-29T06:36:14.179629Z",
          "iopub.execute_input": "2022-06-29T06:36:14.180159Z",
          "iopub.status.idle": "2022-06-29T06:36:14.199120Z",
          "shell.execute_reply.started": "2022-06-29T06:36:14.180105Z",
          "shell.execute_reply": "2022-06-29T06:36:14.197770Z"
        },
        "trusted": true,
        "id": "jIIODFoWTfUE"
      },
      "execution_count": null,
      "outputs": []
    },
    {
      "cell_type": "code",
      "source": [
        "### Label Encoding\n",
        "###y=np.array(pd.get_dummies(y))\n",
        "### Label Encoder\n",
        "from tensorflow.keras.utils import to_categorical\n",
        "from sklearn.preprocessing import LabelEncoder\n",
        "labelencoder=LabelEncoder()\n",
        "y=to_categorical(labelencoder.fit_transform(y))"
      ],
      "metadata": {
        "execution": {
          "iopub.status.busy": "2022-06-29T06:36:33.080790Z",
          "iopub.execute_input": "2022-06-29T06:36:33.081187Z",
          "iopub.status.idle": "2022-06-29T06:36:44.275205Z",
          "shell.execute_reply.started": "2022-06-29T06:36:33.081155Z",
          "shell.execute_reply": "2022-06-29T06:36:44.273722Z"
        },
        "trusted": true,
        "id": "aAUfteW4TfUE"
      },
      "execution_count": null,
      "outputs": []
    },
    {
      "cell_type": "code",
      "source": [
        "y"
      ],
      "metadata": {
        "execution": {
          "iopub.status.busy": "2022-06-29T06:36:59.951304Z",
          "iopub.execute_input": "2022-06-29T06:36:59.951701Z",
          "iopub.status.idle": "2022-06-29T06:36:59.960050Z",
          "shell.execute_reply.started": "2022-06-29T06:36:59.951668Z",
          "shell.execute_reply": "2022-06-29T06:36:59.958614Z"
        },
        "trusted": true,
        "id": "rjBPn5klTfUE"
      },
      "execution_count": null,
      "outputs": []
    },
    {
      "cell_type": "code",
      "source": [
        "### Train Test Split\n",
        "from sklearn.model_selection import train_test_split\n",
        "X_train,X_test,y_train,y_test=train_test_split(X,y,test_size=0.2,random_state=0)"
      ],
      "metadata": {
        "execution": {
          "iopub.status.busy": "2022-06-29T06:37:08.864583Z",
          "iopub.execute_input": "2022-06-29T06:37:08.864977Z",
          "iopub.status.idle": "2022-06-29T06:37:08.873617Z",
          "shell.execute_reply.started": "2022-06-29T06:37:08.864947Z",
          "shell.execute_reply": "2022-06-29T06:37:08.872721Z"
        },
        "trusted": true,
        "id": "5A0azjsOTfUE"
      },
      "execution_count": null,
      "outputs": []
    },
    {
      "cell_type": "code",
      "source": [
        "X_train\n"
      ],
      "metadata": {
        "execution": {
          "iopub.status.busy": "2022-06-29T06:37:20.601323Z",
          "iopub.execute_input": "2022-06-29T06:37:20.601756Z",
          "iopub.status.idle": "2022-06-29T06:37:20.610530Z",
          "shell.execute_reply.started": "2022-06-29T06:37:20.601719Z",
          "shell.execute_reply": "2022-06-29T06:37:20.609549Z"
        },
        "trusted": true,
        "id": "Td6bIihPTfUF"
      },
      "execution_count": null,
      "outputs": []
    },
    {
      "cell_type": "code",
      "source": [
        "y"
      ],
      "metadata": {
        "execution": {
          "iopub.status.busy": "2022-06-29T06:37:26.967340Z",
          "iopub.execute_input": "2022-06-29T06:37:26.967720Z",
          "iopub.status.idle": "2022-06-29T06:37:26.975736Z",
          "shell.execute_reply.started": "2022-06-29T06:37:26.967689Z",
          "shell.execute_reply": "2022-06-29T06:37:26.974519Z"
        },
        "trusted": true,
        "id": "Vu_scMLYTfUF"
      },
      "execution_count": null,
      "outputs": []
    },
    {
      "cell_type": "code",
      "source": [
        "X_train.shape"
      ],
      "metadata": {
        "execution": {
          "iopub.status.busy": "2022-06-29T06:37:42.514919Z",
          "iopub.execute_input": "2022-06-29T06:37:42.515310Z",
          "iopub.status.idle": "2022-06-29T06:37:42.522307Z",
          "shell.execute_reply.started": "2022-06-29T06:37:42.515278Z",
          "shell.execute_reply": "2022-06-29T06:37:42.521132Z"
        },
        "trusted": true,
        "id": "RJ2wMRkpTfUF"
      },
      "execution_count": null,
      "outputs": []
    },
    {
      "cell_type": "code",
      "source": [
        "X_test.shape"
      ],
      "metadata": {
        "execution": {
          "iopub.status.busy": "2022-06-29T06:37:50.828484Z",
          "iopub.execute_input": "2022-06-29T06:37:50.828938Z",
          "iopub.status.idle": "2022-06-29T06:37:50.837338Z",
          "shell.execute_reply.started": "2022-06-29T06:37:50.828903Z",
          "shell.execute_reply": "2022-06-29T06:37:50.836506Z"
        },
        "trusted": true,
        "id": "zNV6ZdV6TfUF"
      },
      "execution_count": null,
      "outputs": []
    },
    {
      "cell_type": "code",
      "source": [
        "y_train.shape"
      ],
      "metadata": {
        "execution": {
          "iopub.status.busy": "2022-06-29T06:38:16.779668Z",
          "iopub.execute_input": "2022-06-29T06:38:16.780072Z",
          "iopub.status.idle": "2022-06-29T06:38:16.788168Z",
          "shell.execute_reply.started": "2022-06-29T06:38:16.780038Z",
          "shell.execute_reply": "2022-06-29T06:38:16.786976Z"
        },
        "trusted": true,
        "id": "qKdAd6GCTfUG"
      },
      "execution_count": null,
      "outputs": []
    },
    {
      "cell_type": "code",
      "source": [
        "y_test.shape"
      ],
      "metadata": {
        "execution": {
          "iopub.status.busy": "2022-06-29T06:38:19.906560Z",
          "iopub.execute_input": "2022-06-29T06:38:19.906995Z",
          "iopub.status.idle": "2022-06-29T06:38:19.913901Z",
          "shell.execute_reply.started": "2022-06-29T06:38:19.906952Z",
          "shell.execute_reply": "2022-06-29T06:38:19.912667Z"
        },
        "trusted": true,
        "id": "ltwdFLCRTfUG"
      },
      "execution_count": null,
      "outputs": []
    },
    {
      "cell_type": "code",
      "source": [
        "import tensorflow as tf\n",
        "print(tf.__version__)"
      ],
      "metadata": {
        "execution": {
          "iopub.status.busy": "2022-06-29T06:38:27.589558Z",
          "iopub.execute_input": "2022-06-29T06:38:27.589949Z",
          "iopub.status.idle": "2022-06-29T06:38:27.596402Z",
          "shell.execute_reply.started": "2022-06-29T06:38:27.589916Z",
          "shell.execute_reply": "2022-06-29T06:38:27.595106Z"
        },
        "trusted": true,
        "id": "IfwRM60JTfUG"
      },
      "execution_count": null,
      "outputs": []
    },
    {
      "cell_type": "code",
      "source": [
        "from tensorflow.keras.models import Sequential\n",
        "from tensorflow.keras.layers import Dense,Dropout,Activation,Flatten\n",
        "from tensorflow.keras.optimizers import Adam\n",
        "from sklearn import metrics"
      ],
      "metadata": {
        "execution": {
          "iopub.status.busy": "2022-06-29T06:38:34.678621Z",
          "iopub.execute_input": "2022-06-29T06:38:34.679039Z",
          "iopub.status.idle": "2022-06-29T06:38:34.687200Z",
          "shell.execute_reply.started": "2022-06-29T06:38:34.679002Z",
          "shell.execute_reply": "2022-06-29T06:38:34.686142Z"
        },
        "trusted": true,
        "id": "Lscu6qYmTfUH"
      },
      "execution_count": null,
      "outputs": []
    },
    {
      "cell_type": "code",
      "source": [
        "num_labels=y.shape[1]"
      ],
      "metadata": {
        "execution": {
          "iopub.status.busy": "2022-06-29T06:38:42.962142Z",
          "iopub.execute_input": "2022-06-29T06:38:42.962672Z",
          "iopub.status.idle": "2022-06-29T06:38:42.968708Z",
          "shell.execute_reply.started": "2022-06-29T06:38:42.962630Z",
          "shell.execute_reply": "2022-06-29T06:38:42.967431Z"
        },
        "trusted": true,
        "id": "PclkNjJRTfUH"
      },
      "execution_count": null,
      "outputs": []
    },
    {
      "cell_type": "code",
      "source": [
        "model=Sequential()\n",
        "###first layer\n",
        "model.add(Dense(100,input_shape=(40,)))\n",
        "model.add(Activation('relu'))\n",
        "model.add(Dropout(0.5))\n",
        "###second layer\n",
        "model.add(Dense(200))\n",
        "model.add(Activation('relu'))\n",
        "model.add(Dropout(0.5))\n",
        "###third layer\n",
        "model.add(Dense(100))\n",
        "model.add(Activation('relu'))\n",
        "model.add(Dropout(0.5))\n",
        "\n",
        "###final layer\n",
        "model.add(Dense(num_labels))\n",
        "model.add(Activation('softmax'))"
      ],
      "metadata": {
        "execution": {
          "iopub.status.busy": "2022-06-29T06:38:51.240663Z",
          "iopub.execute_input": "2022-06-29T06:38:51.241763Z",
          "iopub.status.idle": "2022-06-29T06:38:51.423429Z",
          "shell.execute_reply.started": "2022-06-29T06:38:51.241713Z",
          "shell.execute_reply": "2022-06-29T06:38:51.421976Z"
        },
        "trusted": true,
        "id": "m4Ag1skaTfUH"
      },
      "execution_count": null,
      "outputs": []
    },
    {
      "cell_type": "code",
      "source": [
        "model.summary()"
      ],
      "metadata": {
        "execution": {
          "iopub.status.busy": "2022-06-29T06:39:01.661363Z",
          "iopub.execute_input": "2022-06-29T06:39:01.662256Z",
          "iopub.status.idle": "2022-06-29T06:39:01.670948Z",
          "shell.execute_reply.started": "2022-06-29T06:39:01.662206Z",
          "shell.execute_reply": "2022-06-29T06:39:01.669016Z"
        },
        "trusted": true,
        "id": "6QbFw3vnTfUH"
      },
      "execution_count": null,
      "outputs": []
    },
    {
      "cell_type": "code",
      "source": [
        "model.compile(loss='categorical_crossentropy',metrics=['accuracy'],optimizer='adam')"
      ],
      "metadata": {
        "execution": {
          "iopub.status.busy": "2022-06-29T06:39:11.558152Z",
          "iopub.execute_input": "2022-06-29T06:39:11.558551Z",
          "iopub.status.idle": "2022-06-29T06:39:11.573834Z",
          "shell.execute_reply.started": "2022-06-29T06:39:11.558515Z",
          "shell.execute_reply": "2022-06-29T06:39:11.572732Z"
        },
        "trusted": true,
        "id": "ftTo3QsATfUH"
      },
      "execution_count": null,
      "outputs": []
    },
    {
      "cell_type": "code",
      "source": [
        "## Trianing my model\n",
        "from tensorflow.keras.callbacks import ModelCheckpoint\n",
        "from datetime import datetime \n",
        "\n",
        "num_epochs = 100\n",
        "num_batch_size = 32\n",
        "\n",
        "checkpointer = ModelCheckpoint(filepath='saved_models/audio_classification.hdf5', \n",
        "                               verbose=1, save_best_only=True)\n",
        "start = datetime.now()\n",
        "\n",
        "model.fit(X_train, y_train, batch_size=num_batch_size, epochs=num_epochs, validation_data=(X_test, y_test), callbacks=[checkpointer], verbose=1)\n",
        "\n",
        "\n",
        "duration = datetime.now() - start\n",
        "print(\"Training completed in time: \", duration)"
      ],
      "metadata": {
        "execution": {
          "iopub.status.busy": "2022-06-29T06:39:22.461397Z",
          "iopub.execute_input": "2022-06-29T06:39:22.462556Z",
          "iopub.status.idle": "2022-06-29T06:41:45.215732Z",
          "shell.execute_reply.started": "2022-06-29T06:39:22.462498Z",
          "shell.execute_reply": "2022-06-29T06:41:45.214296Z"
        },
        "trusted": true,
        "id": "yqtAq95sTfUH"
      },
      "execution_count": null,
      "outputs": []
    },
    {
      "cell_type": "code",
      "source": [
        "model.predict(X_test)"
      ],
      "metadata": {
        "execution": {
          "iopub.status.busy": "2022-06-29T06:41:45.218202Z",
          "iopub.execute_input": "2022-06-29T06:41:45.218718Z",
          "iopub.status.idle": "2022-06-29T06:41:45.448912Z",
          "shell.execute_reply.started": "2022-06-29T06:41:45.218666Z",
          "shell.execute_reply": "2022-06-29T06:41:45.448094Z"
        },
        "trusted": true,
        "id": "fSsyQBd_TfUI"
      },
      "execution_count": null,
      "outputs": []
    },
    {
      "cell_type": "code",
      "source": [
        "filename=\"../input/urbansound8k/fold9/101729-0-0-11.wav\"\n",
        "audio, sample_rate = librosa.load(filename, res_type='kaiser_fast') \n",
        "mfccs_features = librosa.feature.mfcc(y=audio, sr=sample_rate, n_mfcc=40)\n",
        "mfccs_scaled_features = np.mean(mfccs_features.T,axis=0)\n",
        "\n",
        "print(mfccs_scaled_features)\n",
        "mfccs_scaled_features=mfccs_scaled_features.reshape(1,-1)\n",
        "print(mfccs_scaled_features)\n",
        "print(mfccs_scaled_features.shape)"
      ],
      "metadata": {
        "execution": {
          "iopub.status.busy": "2022-06-29T06:42:34.256940Z",
          "iopub.execute_input": "2022-06-29T06:42:34.257423Z",
          "iopub.status.idle": "2022-06-29T06:42:34.377259Z",
          "shell.execute_reply.started": "2022-06-29T06:42:34.257378Z",
          "shell.execute_reply": "2022-06-29T06:42:34.375889Z"
        },
        "trusted": true,
        "id": "Nb1kDi63TfUI"
      },
      "execution_count": null,
      "outputs": []
    },
    {
      "cell_type": "code",
      "source": [
        ""
      ],
      "metadata": {
        "id": "uyRcbzfcTfUI"
      },
      "execution_count": null,
      "outputs": []
    }
  ]
}