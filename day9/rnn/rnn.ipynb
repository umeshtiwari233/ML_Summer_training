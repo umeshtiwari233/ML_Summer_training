{
  "nbformat": 4,
  "nbformat_minor": 0,
  "metadata": {
    "colab": {
      "name": "rnn.ipynb",
      "provenance": [],
      "collapsed_sections": [],
      "include_colab_link": true
    },
    "kernelspec": {
      "name": "python3",
      "display_name": "Python 3"
    }
  },
  "cells": [
    {
      "cell_type": "markdown",
      "metadata": {
        "id": "view-in-github",
        "colab_type": "text"
      },
      "source": [
        "<a href=\"https://colab.research.google.com/github/umeshtiwari233/ML_Summer_training/blob/main/day9/rnn/rnn.ipynb\" target=\"_parent\"><img src=\"https://colab.research.google.com/assets/colab-badge.svg\" alt=\"Open In Colab\"/></a>"
      ]
    },
    {
      "cell_type": "markdown",
      "metadata": {
        "id": "xpAuMVCwfWs8"
      },
      "source": [
        "# Recurrent Neural Network"
      ]
    },
    {
      "cell_type": "markdown",
      "metadata": {
        "id": "nxJfRe4bfYVA"
      },
      "source": [
        "## Part 1 - Data Preprocessing"
      ]
    },
    {
      "cell_type": "markdown",
      "metadata": {
        "id": "ir9zwETrfbrp"
      },
      "source": [
        "### Importing the libraries"
      ]
    },
    {
      "cell_type": "code",
      "metadata": {
        "id": "ZT1f24vHffuf"
      },
      "source": [
        "import numpy as np\n",
        "import matplotlib.pyplot as plt\n",
        "import pandas as pd"
      ],
      "execution_count": null,
      "outputs": []
    },
    {
      "cell_type": "markdown",
      "metadata": {
        "id": "nQ47JAxrgmaL"
      },
      "source": [
        "### Importing the training set"
      ]
    },
    {
      "cell_type": "code",
      "metadata": {
        "id": "1xiv3pJOgqY3"
      },
      "source": [
        "dataset_train = pd.read_csv('/content/sample_data/Google_Stock_Price_Train.csv')\n",
        "training_set = dataset_train.iloc[:, 1:2].values"
      ],
      "execution_count": null,
      "outputs": []
    },
    {
      "cell_type": "markdown",
      "metadata": {
        "id": "HT8_2UJegtG5"
      },
      "source": [
        "### Feature Scaling"
      ]
    },
    {
      "cell_type": "code",
      "metadata": {
        "id": "OTrF2kR7gx9x"
      },
      "source": [
        "from sklearn.preprocessing import MinMaxScaler\n",
        "sc = MinMaxScaler(feature_range = (0, 1))\n",
        "training_set_scaled = sc.fit_transform(training_set)"
      ],
      "execution_count": null,
      "outputs": []
    },
    {
      "cell_type": "markdown",
      "metadata": {
        "id": "JyYgYocqhNUg"
      },
      "source": [
        "### Creating a data structure with 60 timesteps and 1 output"
      ]
    },
    {
      "cell_type": "code",
      "metadata": {
        "id": "iofU21B0i6ST"
      },
      "source": [
        "X_train = []\n",
        "y_train = []\n",
        "for i in range(120, 1258):\n",
        "    X_train.append(training_set_scaled[i-120:i, 0])\n",
        "    y_train.append(training_set_scaled[i, 0])\n",
        "X_train, y_train = np.array(X_train), np.array(y_train)"
      ],
      "execution_count": null,
      "outputs": []
    },
    {
      "cell_type": "markdown",
      "metadata": {
        "id": "D8yaN7Zvi95l"
      },
      "source": [
        "### Reshaping"
      ]
    },
    {
      "cell_type": "code",
      "metadata": {
        "id": "FOXqJHmNjBkz"
      },
      "source": [
        "X_train = np.reshape(X_train, (X_train.shape[0], X_train.shape[1], 1))"
      ],
      "execution_count": null,
      "outputs": []
    },
    {
      "cell_type": "markdown",
      "metadata": {
        "id": "ZRRSOJeVjEWV"
      },
      "source": [
        "## Part 2 - Building and Training the RNN"
      ]
    },
    {
      "cell_type": "markdown",
      "metadata": {
        "id": "k4XV88JMjHXG"
      },
      "source": [
        "### Importing the Keras libraries and packages"
      ]
    },
    {
      "cell_type": "code",
      "metadata": {
        "id": "9JRnqsxEjKsD"
      },
      "source": [
        "from keras.models import Sequential\n",
        "from keras.layers import Dense\n",
        "from keras.layers import LSTM\n",
        "from keras.layers import Dropout"
      ],
      "execution_count": null,
      "outputs": []
    },
    {
      "cell_type": "markdown",
      "metadata": {
        "id": "FEIE-1s9jNzC"
      },
      "source": [
        "### Initialising the RNN"
      ]
    },
    {
      "cell_type": "code",
      "metadata": {
        "id": "1338dJ0UjRKH"
      },
      "source": [
        "regressor = Sequential()"
      ],
      "execution_count": null,
      "outputs": []
    },
    {
      "cell_type": "markdown",
      "metadata": {
        "id": "62eg1OPGjT8z"
      },
      "source": [
        "### Adding the first LSTM layer and some Dropout regularisation"
      ]
    },
    {
      "cell_type": "code",
      "metadata": {
        "id": "2hIinyXUjbVU"
      },
      "source": [
        "regressor.add(LSTM(units = 60, return_sequences = True, input_shape = (X_train.shape[1], 1)))\n",
        "regressor.add(Dropout(0.2))"
      ],
      "execution_count": null,
      "outputs": []
    },
    {
      "cell_type": "markdown",
      "metadata": {
        "id": "3XBIYLyOjlMx"
      },
      "source": [
        "### Adding a second LSTM layer and some Dropout regularisation"
      ]
    },
    {
      "cell_type": "code",
      "metadata": {
        "id": "UG7nrVaSjuZ2"
      },
      "source": [
        "regressor.add(LSTM(units = 60, return_sequences = True))\n",
        "regressor.add(Dropout(0.2))"
      ],
      "execution_count": null,
      "outputs": []
    },
    {
      "cell_type": "markdown",
      "metadata": {
        "id": "Ey3fHVnGj1cu"
      },
      "source": [
        "### Adding a third LSTM layer and some Dropout regularisation"
      ]
    },
    {
      "cell_type": "code",
      "metadata": {
        "id": "PuNi6PgFj7jO"
      },
      "source": [
        "regressor.add(LSTM(units = 60, return_sequences = True))\n",
        "regressor.add(Dropout(0.2))"
      ],
      "execution_count": null,
      "outputs": []
    },
    {
      "cell_type": "markdown",
      "metadata": {
        "id": "SYTrtfTmj933"
      },
      "source": [
        "### Adding a fourth LSTM layer and some Dropout regularisation"
      ]
    },
    {
      "cell_type": "code",
      "metadata": {
        "id": "Jp4Ty8fRkBYV"
      },
      "source": [
        "regressor.add(LSTM(units = 60))\n",
        "regressor.add(Dropout(0.2))"
      ],
      "execution_count": null,
      "outputs": []
    },
    {
      "cell_type": "markdown",
      "metadata": {
        "id": "9ABI6rOIkHhk"
      },
      "source": [
        "### Adding the output layer"
      ]
    },
    {
      "cell_type": "code",
      "metadata": {
        "id": "aM6R1z4WkME8"
      },
      "source": [
        "regressor.add(Dense(units = 1))"
      ],
      "execution_count": null,
      "outputs": []
    },
    {
      "cell_type": "markdown",
      "metadata": {
        "id": "zLx4K7uUkPSh"
      },
      "source": [
        "### Compiling the RNN"
      ]
    },
    {
      "cell_type": "code",
      "metadata": {
        "id": "XTrhVN-tkbko"
      },
      "source": [
        "regressor.compile(optimizer = 'adam', loss = 'mean_squared_error')"
      ],
      "execution_count": null,
      "outputs": []
    },
    {
      "cell_type": "markdown",
      "metadata": {
        "id": "-mPhwKGkkebi"
      },
      "source": [
        "### Fitting the RNN to the Training set"
      ]
    },
    {
      "cell_type": "code",
      "metadata": {
        "id": "I06Nkrz5kkb-",
        "colab": {
          "base_uri": "https://localhost:8080/"
        },
        "outputId": "d29310a9-9336-4b94-a64c-993e350ca610"
      },
      "source": [
        "regressor.fit(X_train, y_train, epochs = 60, batch_size = 16)"
      ],
      "execution_count": null,
      "outputs": [
        {
          "output_type": "stream",
          "name": "stdout",
          "text": [
            "Epoch 1/60\n",
            "72/72 [==============================] - 24s 225ms/step - loss: 0.0214\n",
            "Epoch 2/60\n",
            "72/72 [==============================] - 16s 229ms/step - loss: 0.0059\n",
            "Epoch 3/60\n",
            "72/72 [==============================] - 18s 250ms/step - loss: 0.0048\n",
            "Epoch 4/60\n",
            "72/72 [==============================] - 16s 226ms/step - loss: 0.0052\n",
            "Epoch 5/60\n",
            "72/72 [==============================] - 16s 221ms/step - loss: 0.0047\n",
            "Epoch 6/60\n",
            "72/72 [==============================] - 17s 234ms/step - loss: 0.0047\n",
            "Epoch 7/60\n",
            "72/72 [==============================] - 16s 224ms/step - loss: 0.0040\n",
            "Epoch 8/60\n",
            "72/72 [==============================] - 16s 226ms/step - loss: 0.0039\n",
            "Epoch 9/60\n",
            "72/72 [==============================] - 16s 228ms/step - loss: 0.0038\n",
            "Epoch 10/60\n",
            "72/72 [==============================] - 16s 225ms/step - loss: 0.0037\n",
            "Epoch 11/60\n",
            "72/72 [==============================] - 16s 222ms/step - loss: 0.0043\n",
            "Epoch 12/60\n",
            "72/72 [==============================] - 15s 208ms/step - loss: 0.0036\n",
            "Epoch 13/60\n",
            "72/72 [==============================] - 17s 231ms/step - loss: 0.0031\n",
            "Epoch 14/60\n",
            "72/72 [==============================] - 16s 218ms/step - loss: 0.0038\n",
            "Epoch 15/60\n",
            "72/72 [==============================] - 16s 223ms/step - loss: 0.0031\n",
            "Epoch 16/60\n",
            "72/72 [==============================] - 16s 223ms/step - loss: 0.0033\n",
            "Epoch 17/60\n",
            "72/72 [==============================] - 16s 217ms/step - loss: 0.0029\n",
            "Epoch 18/60\n",
            "72/72 [==============================] - 16s 223ms/step - loss: 0.0029\n",
            "Epoch 19/60\n",
            "72/72 [==============================] - 17s 232ms/step - loss: 0.0030\n",
            "Epoch 20/60\n",
            "72/72 [==============================] - 17s 228ms/step - loss: 0.0028\n",
            "Epoch 21/60\n",
            "72/72 [==============================] - 16s 223ms/step - loss: 0.0025\n",
            "Epoch 22/60\n",
            "72/72 [==============================] - 16s 224ms/step - loss: 0.0029\n",
            "Epoch 23/60\n",
            "72/72 [==============================] - 16s 221ms/step - loss: 0.0026\n",
            "Epoch 24/60\n",
            "72/72 [==============================] - 16s 217ms/step - loss: 0.0027\n",
            "Epoch 25/60\n",
            "72/72 [==============================] - 15s 215ms/step - loss: 0.0027\n",
            "Epoch 26/60\n",
            "72/72 [==============================] - 16s 226ms/step - loss: 0.0023\n",
            "Epoch 27/60\n",
            "72/72 [==============================] - 16s 226ms/step - loss: 0.0028\n",
            "Epoch 28/60\n",
            "72/72 [==============================] - 16s 221ms/step - loss: 0.0027\n",
            "Epoch 29/60\n",
            "72/72 [==============================] - 16s 220ms/step - loss: 0.0025\n",
            "Epoch 30/60\n",
            "72/72 [==============================] - 16s 221ms/step - loss: 0.0025\n",
            "Epoch 31/60\n",
            "72/72 [==============================] - 16s 225ms/step - loss: 0.0021\n",
            "Epoch 32/60\n",
            "72/72 [==============================] - 16s 227ms/step - loss: 0.0021\n",
            "Epoch 33/60\n",
            "72/72 [==============================] - 16s 223ms/step - loss: 0.0023\n",
            "Epoch 34/60\n",
            "72/72 [==============================] - 16s 225ms/step - loss: 0.0022\n",
            "Epoch 35/60\n",
            "72/72 [==============================] - 16s 221ms/step - loss: 0.0020\n",
            "Epoch 36/60\n",
            "72/72 [==============================] - 16s 220ms/step - loss: 0.0022\n",
            "Epoch 37/60\n",
            "72/72 [==============================] - 17s 236ms/step - loss: 0.0022\n",
            "Epoch 38/60\n",
            "72/72 [==============================] - 16s 227ms/step - loss: 0.0022\n",
            "Epoch 39/60\n",
            "72/72 [==============================] - 16s 225ms/step - loss: 0.0021\n",
            "Epoch 40/60\n",
            "72/72 [==============================] - 16s 226ms/step - loss: 0.0019\n",
            "Epoch 41/60\n",
            "72/72 [==============================] - 16s 227ms/step - loss: 0.0018\n",
            "Epoch 42/60\n",
            "72/72 [==============================] - 16s 227ms/step - loss: 0.0020\n",
            "Epoch 43/60\n",
            "72/72 [==============================] - 16s 227ms/step - loss: 0.0017\n",
            "Epoch 44/60\n",
            "72/72 [==============================] - 16s 224ms/step - loss: 0.0018\n",
            "Epoch 45/60\n",
            "72/72 [==============================] - 16s 217ms/step - loss: 0.0022\n",
            "Epoch 46/60\n",
            "72/72 [==============================] - 16s 222ms/step - loss: 0.0018\n",
            "Epoch 47/60\n",
            "72/72 [==============================] - 16s 226ms/step - loss: 0.0017\n",
            "Epoch 48/60\n",
            "72/72 [==============================] - 16s 222ms/step - loss: 0.0018\n",
            "Epoch 49/60\n",
            "72/72 [==============================] - 16s 219ms/step - loss: 0.0016\n",
            "Epoch 50/60\n",
            "72/72 [==============================] - 16s 218ms/step - loss: 0.0015\n",
            "Epoch 51/60\n",
            "72/72 [==============================] - 16s 225ms/step - loss: 0.0018\n",
            "Epoch 52/60\n",
            "72/72 [==============================] - 16s 216ms/step - loss: 0.0016\n",
            "Epoch 53/60\n",
            "72/72 [==============================] - 16s 223ms/step - loss: 0.0015\n",
            "Epoch 54/60\n",
            "72/72 [==============================] - 16s 223ms/step - loss: 0.0015\n",
            "Epoch 55/60\n",
            "72/72 [==============================] - 17s 236ms/step - loss: 0.0016\n",
            "Epoch 56/60\n",
            "72/72 [==============================] - 16s 224ms/step - loss: 0.0014\n",
            "Epoch 57/60\n",
            "72/72 [==============================] - 16s 229ms/step - loss: 0.0015\n",
            "Epoch 58/60\n",
            "72/72 [==============================] - 16s 227ms/step - loss: 0.0014\n",
            "Epoch 59/60\n",
            "72/72 [==============================] - 16s 226ms/step - loss: 0.0017\n",
            "Epoch 60/60\n",
            "72/72 [==============================] - 16s 226ms/step - loss: 0.0014\n"
          ]
        },
        {
          "output_type": "execute_result",
          "data": {
            "text/plain": [
              "<keras.callbacks.History at 0x7fdedbb94a50>"
            ]
          },
          "metadata": {},
          "execution_count": 15
        }
      ]
    },
    {
      "cell_type": "markdown",
      "metadata": {
        "id": "4hRau_lIkrE8"
      },
      "source": [
        "## Part 3 - Making the predictions and visualising the results"
      ]
    },
    {
      "cell_type": "markdown",
      "metadata": {
        "id": "SgJO6qEDksxD"
      },
      "source": [
        "### Getting the real stock price of 2017"
      ]
    },
    {
      "cell_type": "code",
      "metadata": {
        "id": "FmBT2zqukxTz"
      },
      "source": [
        "dataset_test = pd.read_csv('/content/sample_data/Google_Stock_Price_Test.csv')\n",
        "real_stock_price = dataset_test.iloc[:, 1:2].values"
      ],
      "execution_count": null,
      "outputs": []
    },
    {
      "cell_type": "markdown",
      "metadata": {
        "id": "GrvrLblxkz42"
      },
      "source": [
        "### Getting the predicted stock price of 2017"
      ]
    },
    {
      "cell_type": "code",
      "metadata": {
        "id": "emikTvUpk3Ck"
      },
      "source": [
        "dataset_total = pd.concat((dataset_train['Open'], dataset_test['Open']), axis = 0)\n",
        "inputs = dataset_total[len(dataset_total) - len(dataset_test) - 120:].values\n",
        "inputs = inputs.reshape(-1,1)\n",
        "inputs = sc.transform(inputs)\n",
        "X_test = []\n",
        "for i in range(120, 140):\n",
        "    X_test.append(inputs[i-120:i, 0])\n",
        "X_test = np.array(X_test)\n",
        "X_test = np.reshape(X_test, (X_test.shape[0], X_test.shape[1], 1))\n",
        "predicted_stock_price = regressor.predict(X_test)\n",
        "predicted_stock_price = sc.inverse_transform(predicted_stock_price)"
      ],
      "execution_count": null,
      "outputs": []
    },
    {
      "cell_type": "markdown",
      "metadata": {
        "id": "iFTNs3YHk6FQ"
      },
      "source": [
        "### Visualising the results"
      ]
    },
    {
      "cell_type": "code",
      "metadata": {
        "id": "8OUI8U49k9tH",
        "colab": {
          "base_uri": "https://localhost:8080/",
          "height": 295
        },
        "outputId": "c63532dd-759e-4de5-ccf1-f6cea61d9e9d"
      },
      "source": [
        "plt.plot(real_stock_price, color = 'red', label = 'Real Google Stock Price')\n",
        "plt.plot(predicted_stock_price, color = 'blue', label = 'Predicted Google Stock Price')\n",
        "plt.title('Google Stock Price Prediction')\n",
        "plt.xlabel('Time')\n",
        "plt.ylabel('Google Stock Price')\n",
        "plt.legend()\n",
        "plt.show()"
      ],
      "execution_count": null,
      "outputs": [
        {
          "output_type": "display_data",
          "data": {
            "text/plain": [
              "<Figure size 432x288 with 1 Axes>"
            ],
            "image/png": "[encoded data removed]"
          },
          "metadata": {
            "needs_background": "light"
          }
        }
      ]
    },
    {
      "cell_type": "code",
      "source": [
        ""
      ],
      "metadata": {
        "id": "dIV2QT1-T-C0"
      },
      "execution_count": null,
      "outputs": []
    }
  ]
}