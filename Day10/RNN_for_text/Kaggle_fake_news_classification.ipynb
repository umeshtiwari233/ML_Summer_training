{
  "metadata": {
    "kernelspec": {
      "language": "python",
      "display_name": "Python 3",
      "name": "python3"
    },
    "language_info": {
      "name": "python",
      "version": "3.7.12",
      "mimetype": "text/x-python",
      "codemirror_mode": {
        "name": "ipython",
        "version": 3
      },
      "pygments_lexer": "ipython3",
      "nbconvert_exporter": "python",
      "file_extension": ".py"
    },
    "colab": {
      "name": "Kaggle fake-news-classification.ipynb",
      "provenance": [],
      "include_colab_link": true
    }
  },
  "nbformat_minor": 0,
  "nbformat": 4,
  "cells": [
    {
      "cell_type": "markdown",
      "metadata": {
        "id": "view-in-github",
        "colab_type": "text"
      },
      "source": [
        "<a href=\"https://colab.research.google.com/github/umeshtiwari233/ML_Summer_training/blob/main/Day10/RNN_for_text/Kaggle_fake_news_classification.ipynb\" target=\"_parent\"><img src=\"https://colab.research.google.com/assets/colab-badge.svg\" alt=\"Open In Colab\"/></a>"
      ]
    },
    {
      "cell_type": "code",
      "source": [
        "# This Python 3 environment comes with many helpful analytics libraries installed\n",
        "# It is defined by the kaggle/python Docker image: https://github.com/kaggle/docker-python\n",
        "# For example, here's several helpful packages to load\n",
        "\n",
        "import numpy as np # linear algebra\n",
        "import pandas as pd # data processing, CSV file I/O (e.g. pd.read_csv)\n",
        "\n",
        "# Input data files are available in the read-only \"../input/\" directory\n",
        "# For example, running this (by clicking run or pressing Shift+Enter) will list all files under the input directory\n",
        "\n",
        "import os\n",
        "for dirname, _, filenames in os.walk('/kaggle/input'):\n",
        "    for filename in filenames:\n",
        "        print(os.path.join(dirname, filename))\n",
        "\n",
        "# You can write up to 20GB to the current directory (/kaggle/working/) that gets preserved as output when you create a version using \"Save & Run All\" \n",
        "# You can also write temporary files to /kaggle/temp/, but they won't be saved outside of the current session"
      ],
      "metadata": {
        "_uuid": "8f2839f25d086af736a60e9eeb907d3b93b6e0e5",
        "_cell_guid": "b1076dfc-b9ad-4769-8c92-a6c4dae69d19",
        "execution": {
          "iopub.status.busy": "2022-06-30T12:33:52.498786Z",
          "iopub.execute_input": "2022-06-30T12:33:52.499215Z",
          "iopub.status.idle": "2022-06-30T12:33:52.508249Z",
          "shell.execute_reply.started": "2022-06-30T12:33:52.499183Z",
          "shell.execute_reply": "2022-06-30T12:33:52.507161Z"
        },
        "trusted": true,
        "id": "SdUYsOe3w62j"
      },
      "execution_count": null,
      "outputs": []
    },
    {
      "cell_type": "code",
      "source": [
        "import pandas as pd"
      ],
      "metadata": {
        "execution": {
          "iopub.status.busy": "2022-06-30T12:33:52.609761Z",
          "iopub.execute_input": "2022-06-30T12:33:52.611095Z",
          "iopub.status.idle": "2022-06-30T12:33:52.615377Z",
          "shell.execute_reply.started": "2022-06-30T12:33:52.611039Z",
          "shell.execute_reply": "2022-06-30T12:33:52.614462Z"
        },
        "trusted": true,
        "id": "ni0p0rQ2w62n"
      },
      "execution_count": null,
      "outputs": []
    },
    {
      "cell_type": "code",
      "source": [
        "df=pd.read_csv('../input/fake-news/train.csv')"
      ],
      "metadata": {
        "execution": {
          "iopub.status.busy": "2022-06-30T12:33:52.714113Z",
          "iopub.execute_input": "2022-06-30T12:33:52.715015Z",
          "iopub.status.idle": "2022-06-30T12:33:54.200242Z",
          "shell.execute_reply.started": "2022-06-30T12:33:52.714958Z",
          "shell.execute_reply": "2022-06-30T12:33:54.199056Z"
        },
        "trusted": true,
        "id": "2SLoQ1Wmw62o"
      },
      "execution_count": null,
      "outputs": []
    },
    {
      "cell_type": "code",
      "source": [
        "df.head()"
      ],
      "metadata": {
        "execution": {
          "iopub.status.busy": "2022-06-30T12:33:54.202603Z",
          "iopub.execute_input": "2022-06-30T12:33:54.203249Z",
          "iopub.status.idle": "2022-06-30T12:33:54.216165Z",
          "shell.execute_reply.started": "2022-06-30T12:33:54.203202Z",
          "shell.execute_reply": "2022-06-30T12:33:54.214910Z"
        },
        "trusted": true,
        "id": "QRWna8pQw62o"
      },
      "execution_count": null,
      "outputs": []
    },
    {
      "cell_type": "code",
      "source": [
        "###Drop Nan Values\n",
        "df=df.dropna()\n",
        "\n",
        "df.isnull().sum()"
      ],
      "metadata": {
        "execution": {
          "iopub.status.busy": "2022-06-30T12:33:54.217601Z",
          "iopub.execute_input": "2022-06-30T12:33:54.218043Z",
          "iopub.status.idle": "2022-06-30T12:33:54.248632Z",
          "shell.execute_reply.started": "2022-06-30T12:33:54.218004Z",
          "shell.execute_reply": "2022-06-30T12:33:54.247812Z"
        },
        "trusted": true,
        "id": "2U-Icjxkw62p"
      },
      "execution_count": null,
      "outputs": []
    },
    {
      "cell_type": "code",
      "source": [
        "## Get the Independent Features\n",
        "\n",
        "X=df.drop('label',axis=1)"
      ],
      "metadata": {
        "execution": {
          "iopub.status.busy": "2022-06-30T12:33:54.250501Z",
          "iopub.execute_input": "2022-06-30T12:33:54.251074Z",
          "iopub.status.idle": "2022-06-30T12:33:54.258778Z",
          "shell.execute_reply.started": "2022-06-30T12:33:54.251041Z",
          "shell.execute_reply": "2022-06-30T12:33:54.257910Z"
        },
        "trusted": true,
        "id": "E_2o9EwMw62p"
      },
      "execution_count": null,
      "outputs": []
    },
    {
      "cell_type": "code",
      "source": [
        "## Get the Dependent features\n",
        "y=df['label']"
      ],
      "metadata": {
        "execution": {
          "iopub.status.busy": "2022-06-30T12:33:54.260188Z",
          "iopub.execute_input": "2022-06-30T12:33:54.260765Z",
          "iopub.status.idle": "2022-06-30T12:33:54.268630Z",
          "shell.execute_reply.started": "2022-06-30T12:33:54.260717Z",
          "shell.execute_reply": "2022-06-30T12:33:54.267537Z"
        },
        "trusted": true,
        "id": "Op5KKtHhw62q"
      },
      "execution_count": null,
      "outputs": []
    },
    {
      "cell_type": "code",
      "source": [
        "X.shape"
      ],
      "metadata": {
        "execution": {
          "iopub.status.busy": "2022-06-30T12:33:54.270546Z",
          "iopub.execute_input": "2022-06-30T12:33:54.271293Z",
          "iopub.status.idle": "2022-06-30T12:33:54.285635Z",
          "shell.execute_reply.started": "2022-06-30T12:33:54.271245Z",
          "shell.execute_reply": "2022-06-30T12:33:54.284839Z"
        },
        "trusted": true,
        "id": "S1VDAjTHw62q"
      },
      "execution_count": null,
      "outputs": []
    },
    {
      "cell_type": "code",
      "source": [
        "y.shape"
      ],
      "metadata": {
        "execution": {
          "iopub.status.busy": "2022-06-30T12:33:54.287118Z",
          "iopub.execute_input": "2022-06-30T12:33:54.287639Z",
          "iopub.status.idle": "2022-06-30T12:33:54.299076Z",
          "shell.execute_reply.started": "2022-06-30T12:33:54.287607Z",
          "shell.execute_reply": "2022-06-30T12:33:54.297971Z"
        },
        "trusted": true,
        "id": "w2ZJ2-Smw62q"
      },
      "execution_count": null,
      "outputs": []
    },
    {
      "cell_type": "code",
      "source": [
        "import tensorflow as tf"
      ],
      "metadata": {
        "execution": {
          "iopub.status.busy": "2022-06-30T12:33:54.300615Z",
          "iopub.execute_input": "2022-06-30T12:33:54.301505Z",
          "iopub.status.idle": "2022-06-30T12:33:54.308783Z",
          "shell.execute_reply.started": "2022-06-30T12:33:54.301470Z",
          "shell.execute_reply": "2022-06-30T12:33:54.307937Z"
        },
        "trusted": true,
        "id": "lK_rPxM6w62r"
      },
      "execution_count": null,
      "outputs": []
    },
    {
      "cell_type": "code",
      "source": [
        "tf.__version__"
      ],
      "metadata": {
        "execution": {
          "iopub.status.busy": "2022-06-30T12:33:54.309990Z",
          "iopub.execute_input": "2022-06-30T12:33:54.310433Z",
          "iopub.status.idle": "2022-06-30T12:33:54.322137Z",
          "shell.execute_reply.started": "2022-06-30T12:33:54.310407Z",
          "shell.execute_reply": "2022-06-30T12:33:54.321355Z"
        },
        "trusted": true,
        "id": "0vrog6Ktw62r"
      },
      "execution_count": null,
      "outputs": []
    },
    {
      "cell_type": "code",
      "source": [
        "from tensorflow.keras.layers import Embedding\n",
        "from tensorflow.keras.preprocessing.sequence import pad_sequences\n",
        "from tensorflow.keras.models import Sequential\n",
        "from tensorflow.keras.preprocessing.text import one_hot\n",
        "from tensorflow.keras.layers import LSTM\n",
        "from tensorflow.keras.layers import Dense"
      ],
      "metadata": {
        "execution": {
          "iopub.status.busy": "2022-06-30T12:33:54.324966Z",
          "iopub.execute_input": "2022-06-30T12:33:54.325473Z",
          "iopub.status.idle": "2022-06-30T12:33:54.332799Z",
          "shell.execute_reply.started": "2022-06-30T12:33:54.325441Z",
          "shell.execute_reply": "2022-06-30T12:33:54.331876Z"
        },
        "trusted": true,
        "id": "yglvh543w62s"
      },
      "execution_count": null,
      "outputs": []
    },
    {
      "cell_type": "code",
      "source": [
        "### Vocabulary size\n",
        "voc_size=5000"
      ],
      "metadata": {
        "execution": {
          "iopub.status.busy": "2022-06-30T12:33:54.333974Z",
          "iopub.execute_input": "2022-06-30T12:33:54.334519Z",
          "iopub.status.idle": "2022-06-30T12:33:54.344937Z",
          "shell.execute_reply.started": "2022-06-30T12:33:54.334489Z",
          "shell.execute_reply": "2022-06-30T12:33:54.344061Z"
        },
        "trusted": true,
        "id": "Iep_N5Vfw62s"
      },
      "execution_count": null,
      "outputs": []
    },
    {
      "cell_type": "code",
      "source": [
        "messages=X.copy()"
      ],
      "metadata": {
        "execution": {
          "iopub.status.busy": "2022-06-30T12:33:54.346128Z",
          "iopub.execute_input": "2022-06-30T12:33:54.347030Z",
          "iopub.status.idle": "2022-06-30T12:33:54.358709Z",
          "shell.execute_reply.started": "2022-06-30T12:33:54.346988Z",
          "shell.execute_reply": "2022-06-30T12:33:54.357582Z"
        },
        "trusted": true,
        "id": "Us8at6P1w62s"
      },
      "execution_count": null,
      "outputs": []
    },
    {
      "cell_type": "code",
      "source": [
        "messages['title'][1]"
      ],
      "metadata": {
        "execution": {
          "iopub.status.busy": "2022-06-30T12:33:54.360296Z",
          "iopub.execute_input": "2022-06-30T12:33:54.360711Z",
          "iopub.status.idle": "2022-06-30T12:33:54.370673Z",
          "shell.execute_reply.started": "2022-06-30T12:33:54.360679Z",
          "shell.execute_reply": "2022-06-30T12:33:54.369508Z"
        },
        "trusted": true,
        "id": "ZDRZYr74w62s"
      },
      "execution_count": null,
      "outputs": []
    },
    {
      "cell_type": "code",
      "source": [
        "messages.reset_index(inplace=True)"
      ],
      "metadata": {
        "execution": {
          "iopub.status.busy": "2022-06-30T12:33:54.372224Z",
          "iopub.execute_input": "2022-06-30T12:33:54.373177Z",
          "iopub.status.idle": "2022-06-30T12:33:54.379535Z",
          "shell.execute_reply.started": "2022-06-30T12:33:54.373145Z",
          "shell.execute_reply": "2022-06-30T12:33:54.378696Z"
        },
        "trusted": true,
        "id": "1ytNHrnPw62t"
      },
      "execution_count": null,
      "outputs": []
    },
    {
      "cell_type": "code",
      "source": [
        "import nltk\n",
        "import re\n",
        "from nltk.corpus import stopwords"
      ],
      "metadata": {
        "execution": {
          "iopub.status.busy": "2022-06-30T12:33:54.380876Z",
          "iopub.execute_input": "2022-06-30T12:33:54.381623Z",
          "iopub.status.idle": "2022-06-30T12:33:54.392972Z",
          "shell.execute_reply.started": "2022-06-30T12:33:54.381593Z",
          "shell.execute_reply": "2022-06-30T12:33:54.391552Z"
        },
        "trusted": true,
        "id": "cKlpONWrw62t"
      },
      "execution_count": null,
      "outputs": []
    },
    {
      "cell_type": "code",
      "source": [
        "nltk.download('stopwords')\n"
      ],
      "metadata": {
        "execution": {
          "iopub.status.busy": "2022-06-30T12:33:54.394596Z",
          "iopub.execute_input": "2022-06-30T12:33:54.395360Z",
          "iopub.status.idle": "2022-06-30T12:33:54.406693Z",
          "shell.execute_reply.started": "2022-06-30T12:33:54.395313Z",
          "shell.execute_reply": "2022-06-30T12:33:54.405548Z"
        },
        "trusted": true,
        "id": "z3S970Shw62t"
      },
      "execution_count": null,
      "outputs": []
    },
    {
      "cell_type": "code",
      "source": [
        "len(messages)"
      ],
      "metadata": {
        "execution": {
          "iopub.status.busy": "2022-06-30T12:33:54.408372Z",
          "iopub.execute_input": "2022-06-30T12:33:54.409053Z",
          "iopub.status.idle": "2022-06-30T12:33:54.419292Z",
          "shell.execute_reply.started": "2022-06-30T12:33:54.409014Z",
          "shell.execute_reply": "2022-06-30T12:33:54.418437Z"
        },
        "trusted": true,
        "id": "omAQXON8w62t"
      },
      "execution_count": null,
      "outputs": []
    },
    {
      "cell_type": "code",
      "source": [
        "### Dataset Preprocessing\n",
        "from nltk.stem.porter import PorterStemmer\n",
        "ps = PorterStemmer()\n",
        "corpus = []\n",
        "for i in range(0, len(messages)):\n",
        "    print(i)\n",
        "    review = re.sub('[^a-zA-Z]', ' ', messages['title'][i])\n",
        "    review = review.lower()\n",
        "    review = review.split()\n",
        "    \n",
        "    review = [ps.stem(word) for word in review if not word in stopwords.words('english')]\n",
        "    review = ' '.join(review)\n",
        "    corpus.append(review)\n",
        "\n",
        "    \n",
        "    "
      ],
      "metadata": {
        "execution": {
          "iopub.status.busy": "2022-06-30T12:33:54.420563Z",
          "iopub.execute_input": "2022-06-30T12:33:54.421507Z",
          "iopub.status.idle": "2022-06-30T12:34:28.152974Z",
          "shell.execute_reply.started": "2022-06-30T12:33:54.421473Z",
          "shell.execute_reply": "2022-06-30T12:34:28.151823Z"
        },
        "trusted": true,
        "id": "FyDqZFQdw62u"
      },
      "execution_count": null,
      "outputs": []
    },
    {
      "cell_type": "code",
      "source": [
        "corpus"
      ],
      "metadata": {
        "execution": {
          "iopub.status.busy": "2022-06-30T12:34:28.157086Z",
          "iopub.execute_input": "2022-06-30T12:34:28.157433Z",
          "iopub.status.idle": "2022-06-30T12:34:28.179466Z",
          "shell.execute_reply.started": "2022-06-30T12:34:28.157404Z",
          "shell.execute_reply": "2022-06-30T12:34:28.178549Z"
        },
        "trusted": true,
        "id": "bPmn2zxaw62u"
      },
      "execution_count": null,
      "outputs": []
    },
    {
      "cell_type": "markdown",
      "source": [
        "**Embedding Representation**"
      ],
      "metadata": {
        "id": "RZEKRCNVw62u"
      }
    },
    {
      "cell_type": "code",
      "source": [
        "onehot_repr=[one_hot(words,voc_size)for words in corpus] \n",
        "onehot_repr"
      ],
      "metadata": {
        "execution": {
          "iopub.status.busy": "2022-06-30T12:34:28.181264Z",
          "iopub.execute_input": "2022-06-30T12:34:28.181587Z",
          "iopub.status.idle": "2022-06-30T12:34:28.532587Z",
          "shell.execute_reply.started": "2022-06-30T12:34:28.181558Z",
          "shell.execute_reply": "2022-06-30T12:34:28.531800Z"
        },
        "trusted": true,
        "id": "L49GQJvcw62w"
      },
      "execution_count": null,
      "outputs": []
    },
    {
      "cell_type": "code",
      "source": [
        "\n",
        "sent_length=20\n",
        "embedded_docs=pad_sequences(onehot_repr,padding='pre',maxlen=sent_length)\n",
        "print(embedded_docs)"
      ],
      "metadata": {
        "execution": {
          "iopub.status.busy": "2022-06-30T12:34:28.533559Z",
          "iopub.execute_input": "2022-06-30T12:34:28.534060Z",
          "iopub.status.idle": "2022-06-30T12:34:28.587080Z",
          "shell.execute_reply.started": "2022-06-30T12:34:28.534032Z",
          "shell.execute_reply": "2022-06-30T12:34:28.586015Z"
        },
        "trusted": true,
        "id": "ggoCT3oHw62x"
      },
      "execution_count": null,
      "outputs": []
    },
    {
      "cell_type": "code",
      "source": [
        "embedded_docs[0]"
      ],
      "metadata": {
        "execution": {
          "iopub.status.busy": "2022-06-30T12:34:28.588352Z",
          "iopub.execute_input": "2022-06-30T12:34:28.588794Z",
          "iopub.status.idle": "2022-06-30T12:34:28.595060Z",
          "shell.execute_reply.started": "2022-06-30T12:34:28.588727Z",
          "shell.execute_reply": "2022-06-30T12:34:28.594145Z"
        },
        "trusted": true,
        "id": "7MVY8j-xw62x"
      },
      "execution_count": null,
      "outputs": []
    },
    {
      "cell_type": "code",
      "source": [
        "## Creating model\n",
        "embedding_vector_features=40\n",
        "model=Sequential()\n",
        "model.add(Embedding(voc_size,embedding_vector_features,input_length=sent_length))\n",
        "model.add(LSTM(100))\n",
        "model.add(Dense(1,activation='sigmoid'))\n",
        "model.compile(loss='binary_crossentropy',optimizer='adam',metrics=['accuracy'])\n",
        "print(model.summary())"
      ],
      "metadata": {
        "execution": {
          "iopub.status.busy": "2022-06-30T12:34:28.596327Z",
          "iopub.execute_input": "2022-06-30T12:34:28.596614Z",
          "iopub.status.idle": "2022-06-30T12:34:28.852508Z",
          "shell.execute_reply.started": "2022-06-30T12:34:28.596590Z",
          "shell.execute_reply": "2022-06-30T12:34:28.851283Z"
        },
        "trusted": true,
        "id": "7wjMpPGgw62x"
      },
      "execution_count": null,
      "outputs": []
    },
    {
      "cell_type": "code",
      "source": [
        "len(embedded_docs),y.shape"
      ],
      "metadata": {
        "execution": {
          "iopub.status.busy": "2022-06-30T12:34:28.854126Z",
          "iopub.execute_input": "2022-06-30T12:34:28.854468Z",
          "iopub.status.idle": "2022-06-30T12:34:28.862036Z",
          "shell.execute_reply.started": "2022-06-30T12:34:28.854438Z",
          "shell.execute_reply": "2022-06-30T12:34:28.860809Z"
        },
        "trusted": true,
        "id": "cRyJ62OWw62y"
      },
      "execution_count": null,
      "outputs": []
    },
    {
      "cell_type": "code",
      "source": [
        "import numpy as np\n",
        "X_final=np.array(embedded_docs)\n",
        "y_final=np.array(y)"
      ],
      "metadata": {
        "execution": {
          "iopub.status.busy": "2022-06-30T12:34:28.863478Z",
          "iopub.execute_input": "2022-06-30T12:34:28.863819Z",
          "iopub.status.idle": "2022-06-30T12:34:28.875031Z",
          "shell.execute_reply.started": "2022-06-30T12:34:28.863790Z",
          "shell.execute_reply": "2022-06-30T12:34:28.873908Z"
        },
        "trusted": true,
        "id": "1Aj-Fkinw62y"
      },
      "execution_count": null,
      "outputs": []
    },
    {
      "cell_type": "code",
      "source": [
        "X_final.shape,y_final.shape"
      ],
      "metadata": {
        "execution": {
          "iopub.status.busy": "2022-06-30T12:34:28.878594Z",
          "iopub.execute_input": "2022-06-30T12:34:28.879701Z",
          "iopub.status.idle": "2022-06-30T12:34:28.888020Z",
          "shell.execute_reply.started": "2022-06-30T12:34:28.879662Z",
          "shell.execute_reply": "2022-06-30T12:34:28.886636Z"
        },
        "trusted": true,
        "id": "ko5lULTIw62y"
      },
      "execution_count": null,
      "outputs": []
    },
    {
      "cell_type": "code",
      "source": [
        "from sklearn.model_selection import train_test_split\n",
        "X_train, X_test, y_train, y_test = train_test_split(X_final, y_final, test_size=0.33, random_state=42)"
      ],
      "metadata": {
        "execution": {
          "iopub.status.busy": "2022-06-30T12:34:28.889300Z",
          "iopub.execute_input": "2022-06-30T12:34:28.890370Z",
          "iopub.status.idle": "2022-06-30T12:34:28.904037Z",
          "shell.execute_reply.started": "2022-06-30T12:34:28.890323Z",
          "shell.execute_reply": "2022-06-30T12:34:28.902818Z"
        },
        "trusted": true,
        "id": "XMnRdoLxw62y"
      },
      "execution_count": null,
      "outputs": []
    },
    {
      "cell_type": "code",
      "source": [
        "### Finally Training\n",
        "model.fit(X_train,y_train,validation_data=(X_test,y_test),epochs=10,batch_size=64)"
      ],
      "metadata": {
        "execution": {
          "iopub.status.busy": "2022-06-30T12:34:28.906065Z",
          "iopub.execute_input": "2022-06-30T12:34:28.906915Z",
          "iopub.status.idle": "2022-06-30T12:35:32.232957Z",
          "shell.execute_reply.started": "2022-06-30T12:34:28.906870Z",
          "shell.execute_reply": "2022-06-30T12:35:32.231958Z"
        },
        "trusted": true,
        "id": "lnutYqwyw62y"
      },
      "execution_count": null,
      "outputs": []
    },
    {
      "cell_type": "code",
      "source": [
        "from tensorflow.keras.layers import Dropout\n",
        "## Creating model\n",
        "embedding_vector_features=40\n",
        "model=Sequential()\n",
        "model.add(Embedding(voc_size,embedding_vector_features,input_length=sent_length))\n",
        "model.add(Dropout(0.3))\n",
        "model.add(LSTM(100))\n",
        "model.add(Dropout(0.3))\n",
        "model.add(Dense(1,activation='sigmoid'))\n",
        "model.compile(loss='binary_crossentropy',optimizer='adam',metrics=['accuracy'])"
      ],
      "metadata": {
        "execution": {
          "iopub.status.busy": "2022-06-30T12:35:32.234458Z",
          "iopub.execute_input": "2022-06-30T12:35:32.235475Z",
          "iopub.status.idle": "2022-06-30T12:35:32.482323Z",
          "shell.execute_reply.started": "2022-06-30T12:35:32.235421Z",
          "shell.execute_reply": "2022-06-30T12:35:32.481233Z"
        },
        "trusted": true,
        "id": "-ks7p_0Ow62y"
      },
      "execution_count": null,
      "outputs": []
    },
    {
      "cell_type": "code",
      "source": [
        "predict_x=model.predict(X_test) \n",
        "y_pred=np.argmax(predict_x,axis=1)\n"
      ],
      "metadata": {
        "execution": {
          "iopub.status.busy": "2022-06-30T12:49:26.560289Z",
          "iopub.execute_input": "2022-06-30T12:49:26.560620Z",
          "iopub.status.idle": "2022-06-30T12:49:27.681789Z",
          "shell.execute_reply.started": "2022-06-30T12:49:26.560594Z",
          "shell.execute_reply": "2022-06-30T12:49:27.680698Z"
        },
        "trusted": true,
        "id": "nhuXHgqNw62z"
      },
      "execution_count": null,
      "outputs": []
    },
    {
      "cell_type": "code",
      "source": [
        "from sklearn.metrics import confusion_matrix\n",
        "\n",
        "confusion_matrix(y_test,y_pred)\n"
      ],
      "metadata": {
        "execution": {
          "iopub.status.busy": "2022-06-30T12:49:29.496411Z",
          "iopub.execute_input": "2022-06-30T12:49:29.497378Z",
          "iopub.status.idle": "2022-06-30T12:49:29.507475Z",
          "shell.execute_reply.started": "2022-06-30T12:49:29.497322Z",
          "shell.execute_reply": "2022-06-30T12:49:29.506368Z"
        },
        "trusted": true,
        "id": "uGC-OFoQw62z"
      },
      "execution_count": null,
      "outputs": []
    },
    {
      "cell_type": "code",
      "source": [
        "\n",
        "from sklearn.metrics import accuracy_score\n",
        "accuracy_score(y_test,y_pred)"
      ],
      "metadata": {
        "execution": {
          "iopub.status.busy": "2022-06-30T12:49:45.801463Z",
          "iopub.execute_input": "2022-06-30T12:49:45.801867Z",
          "iopub.status.idle": "2022-06-30T12:49:45.809328Z",
          "shell.execute_reply.started": "2022-06-30T12:49:45.801834Z",
          "shell.execute_reply": "2022-06-30T12:49:45.808492Z"
        },
        "trusted": true,
        "id": "WnIdt2jCw62z"
      },
      "execution_count": null,
      "outputs": []
    },
    {
      "cell_type": "code",
      "source": [
        "from sklearn.metrics import accuracy_score\n",
        "accuracy_score(y_test,y_pred)"
      ],
      "metadata": {
        "execution": {
          "iopub.status.busy": "2022-06-30T12:35:34.079333Z",
          "iopub.status.idle": "2022-06-30T12:35:34.080118Z",
          "shell.execute_reply.started": "2022-06-30T12:35:34.079819Z",
          "shell.execute_reply": "2022-06-30T12:35:34.079847Z"
        },
        "trusted": true,
        "id": "wBJwkUjlw62z"
      },
      "execution_count": null,
      "outputs": []
    }
  ]
}